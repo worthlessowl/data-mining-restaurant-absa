{
  "cells": [
    {
      "cell_type": "markdown",
      "metadata": {
        "id": "ZWE4ydak4TdP"
      },
      "source": [
        "# TODO: Parse XML\n",
        "Parse XML into python processable data\n"
      ]
    },
    {
      "cell_type": "markdown",
      "metadata": {
        "id": "Y58R0E5sZxX4"
      },
      "source": [
        "## Parsing - Firdhan"
      ]
    },
    {
      "cell_type": "code",
      "execution_count": 42,
      "metadata": {
        "colab": {
          "base_uri": "https://localhost:8080/",
          "height": 522
        },
        "id": "-pysOhoo5ojt",
        "outputId": "6e433160-9337-475e-c8b0-f7a6ddec3692"
      },
      "outputs": [
        {
          "ename": "ModuleNotFoundError",
          "evalue": "No module named 'nltk'",
          "output_type": "error",
          "traceback": [
            "\u001b[1;31m---------------------------------------------------------------------------\u001b[0m",
            "\u001b[1;31mModuleNotFoundError\u001b[0m                       Traceback (most recent call last)",
            "\u001b[1;32m<ipython-input-42-55c8bd45c484>\u001b[0m in \u001b[0;36m<module>\u001b[1;34m\u001b[0m\n\u001b[0;32m      1\u001b[0m \u001b[1;32mimport\u001b[0m \u001b[0mnumpy\u001b[0m \u001b[1;32mas\u001b[0m \u001b[0mnp\u001b[0m\u001b[1;33m\u001b[0m\u001b[1;33m\u001b[0m\u001b[0m\n\u001b[0;32m      2\u001b[0m \u001b[1;32mimport\u001b[0m \u001b[0mpandas\u001b[0m \u001b[1;32mas\u001b[0m \u001b[0mpd\u001b[0m\u001b[1;33m\u001b[0m\u001b[1;33m\u001b[0m\u001b[0m\n\u001b[1;32m----> 3\u001b[1;33m \u001b[1;32mimport\u001b[0m \u001b[0mnltk\u001b[0m\u001b[1;33m\u001b[0m\u001b[1;33m\u001b[0m\u001b[0m\n\u001b[0m\u001b[0;32m      4\u001b[0m \u001b[1;32mimport\u001b[0m \u001b[0mio\u001b[0m\u001b[1;33m\u001b[0m\u001b[1;33m\u001b[0m\u001b[0m\n\u001b[0;32m      5\u001b[0m \u001b[1;32mfrom\u001b[0m \u001b[0mgoogle\u001b[0m\u001b[1;33m.\u001b[0m\u001b[0mcolab\u001b[0m \u001b[1;32mimport\u001b[0m \u001b[0mdrive\u001b[0m\u001b[1;33m\u001b[0m\u001b[1;33m\u001b[0m\u001b[0m\n",
            "\u001b[1;31mModuleNotFoundError\u001b[0m: No module named 'nltk'"
          ]
        }
      ],
      "source": [
        "import numpy as np\n",
        "import pandas as pd\n",
        "import nltk\n",
        "import io\n",
        "from google.colab import drive\n",
        "\n",
        "drive.mount(\"/content/gdrive\")\n"
      ]
    },
    {
      "cell_type": "code",
      "execution_count": null,
      "metadata": {
        "id": "DG2oayLKtBtg"
      },
      "outputs": [],
      "source": [
        "import xml.etree.ElementTree as et \n",
        "\n",
        "def parse_XML_unlabeled(xml_path, df_cols):\n",
        "  xtree = et.parse(xml_path)\n",
        "  xroot = xtree.getroot()\n",
        "\n",
        "  rows = []\n",
        "  for node in xroot:\n",
        "    review = node.find(df_cols[0]).text if node is not None else None\n",
        "\n",
        "    rows.append({f'{df_cols[0]}': review})\n",
        "  \n",
        "  out_df = pd.DataFrame(rows, columns = df_cols)\n",
        "  return out_df"
      ]
    },
    {
      "cell_type": "code",
      "execution_count": null,
      "metadata": {
        "colab": {
          "base_uri": "https://localhost:8080/",
          "height": 423
        },
        "id": "Np_SUlfsuAlf",
        "outputId": "26dbf271-082e-4d1a-e5f7-a8189c25b8bc"
      },
      "outputs": [
        {
          "data": {
            "text/html": [
              "<div>\n",
              "<style scoped>\n",
              "    .dataframe tbody tr th:only-of-type {\n",
              "        vertical-align: middle;\n",
              "    }\n",
              "\n",
              "    .dataframe tbody tr th {\n",
              "        vertical-align: top;\n",
              "    }\n",
              "\n",
              "    .dataframe thead th {\n",
              "        text-align: right;\n",
              "    }\n",
              "</style>\n",
              "<table border=\"1\" class=\"dataframe\">\n",
              "  <thead>\n",
              "    <tr style=\"text-align: right;\">\n",
              "      <th></th>\n",
              "      <th>review</th>\n",
              "    </tr>\n",
              "  </thead>\n",
              "  <tbody>\n",
              "    <tr>\n",
              "      <th>0</th>\n",
              "      <td>Berkunjung kesini karena baca review yang bila...</td>\n",
              "    </tr>\n",
              "    <tr>\n",
              "      <th>1</th>\n",
              "      <td>Nyam.. Bakut franchise dari Singapore ini ga p...</td>\n",
              "    </tr>\n",
              "    <tr>\n",
              "      <th>2</th>\n",
              "      <td>Saya makan disini kemarin makan bakwan malang....</td>\n",
              "    </tr>\n",
              "    <tr>\n",
              "      <th>3</th>\n",
              "      <td>Pertama liat agak aneh sih karna warnanya item...</td>\n",
              "    </tr>\n",
              "    <tr>\n",
              "      <th>4</th>\n",
              "      <td>A new addition to the Japanese-owned Sentral S...</td>\n",
              "    </tr>\n",
              "    <tr>\n",
              "      <th>...</th>\n",
              "      <td>...</td>\n",
              "    </tr>\n",
              "    <tr>\n",
              "      <th>14023</th>\n",
              "      <td>Tempatnya penuh terus setiap saya mampir kesin...</td>\n",
              "    </tr>\n",
              "    <tr>\n",
              "      <th>14024</th>\n",
              "      <td>Sambil jalan-jalan enaknya sambil makan ice cr...</td>\n",
              "    </tr>\n",
              "    <tr>\n",
              "      <th>14025</th>\n",
              "      <td>Kalau lagi mau makan rame-rame tapi bingung ma...</td>\n",
              "    </tr>\n",
              "    <tr>\n",
              "      <th>14026</th>\n",
              "      <td>Dulu sering banget nih kesini,mungkin hampir t...</td>\n",
              "    </tr>\n",
              "    <tr>\n",
              "      <th>14027</th>\n",
              "      <td>Pertama kali kesinii dlu pernahnya di mountain...</td>\n",
              "    </tr>\n",
              "  </tbody>\n",
              "</table>\n",
              "<p>14028 rows × 1 columns</p>\n",
              "</div>"
            ],
            "text/plain": [
              "                                                  review\n",
              "0      Berkunjung kesini karena baca review yang bila...\n",
              "1      Nyam.. Bakut franchise dari Singapore ini ga p...\n",
              "2      Saya makan disini kemarin makan bakwan malang....\n",
              "3      Pertama liat agak aneh sih karna warnanya item...\n",
              "4      A new addition to the Japanese-owned Sentral S...\n",
              "...                                                  ...\n",
              "14023  Tempatnya penuh terus setiap saya mampir kesin...\n",
              "14024  Sambil jalan-jalan enaknya sambil makan ice cr...\n",
              "14025  Kalau lagi mau makan rame-rame tapi bingung ma...\n",
              "14026  Dulu sering banget nih kesini,mungkin hampir t...\n",
              "14027  Pertama kali kesinii dlu pernahnya di mountain...\n",
              "\n",
              "[14028 rows x 1 columns]"
            ]
          },
          "execution_count": 8,
          "metadata": {},
          "output_type": "execute_result"
        }
      ],
      "source": [
        "testing_data_df = parse_XML_unlabeled('/content/gdrive/My Drive/sample data/testing_data.xml', [\"review\"])\n",
        "testing_data_df"
      ]
    },
    {
      "cell_type": "code",
      "execution_count": null,
      "metadata": {
        "colab": {
          "base_uri": "https://localhost:8080/",
          "height": 423
        },
        "id": "6VnOrlImX6f0",
        "outputId": "4be3bcd2-e246-45e4-ba00-10538cb06ad4"
      },
      "outputs": [
        {
          "data": {
            "text/html": [
              "<div>\n",
              "<style scoped>\n",
              "    .dataframe tbody tr th:only-of-type {\n",
              "        vertical-align: middle;\n",
              "    }\n",
              "\n",
              "    .dataframe tbody tr th {\n",
              "        vertical-align: top;\n",
              "    }\n",
              "\n",
              "    .dataframe thead th {\n",
              "        text-align: right;\n",
              "    }\n",
              "</style>\n",
              "<table border=\"1\" class=\"dataframe\">\n",
              "  <thead>\n",
              "    <tr style=\"text-align: right;\">\n",
              "      <th></th>\n",
              "      <th>review</th>\n",
              "    </tr>\n",
              "  </thead>\n",
              "  <tbody>\n",
              "    <tr>\n",
              "      <th>0</th>\n",
              "      <td>Malabar mountain cafe, liat cafe ini sebenerny...</td>\n",
              "    </tr>\n",
              "    <tr>\n",
              "      <th>1</th>\n",
              "      <td>Gurame bakar enak, sotongnya enak, udang bakar...</td>\n",
              "    </tr>\n",
              "    <tr>\n",
              "      <th>2</th>\n",
              "      <td>Uda lama pengen coba kesini, kebetulan pas mau...</td>\n",
              "    </tr>\n",
              "    <tr>\n",
              "      <th>3</th>\n",
              "      <td>JJ Royal Bistro terletak di lantai LG Senayan ...</td>\n",
              "    </tr>\n",
              "    <tr>\n",
              "      <th>4</th>\n",
              "      <td>Makanannya enak2 overall, harga reasonable, po...</td>\n",
              "    </tr>\n",
              "    <tr>\n",
              "      <th>...</th>\n",
              "      <td>...</td>\n",
              "    </tr>\n",
              "    <tr>\n",
              "      <th>159021</th>\n",
              "      <td>Utk upnormal yg di Gading serpong ini tempatny...</td>\n",
              "    </tr>\n",
              "    <tr>\n",
              "      <th>159022</th>\n",
              "      <td>Ke sini pas lagi laper berat jadi nyari nasi b...</td>\n",
              "    </tr>\n",
              "    <tr>\n",
              "      <th>159023</th>\n",
              "      <td>Cobain mie goreng yg double pake sambel matah,...</td>\n",
              "    </tr>\n",
              "    <tr>\n",
              "      <th>159024</th>\n",
              "      <td>Sebenernya nyobain cafè bene yg pertama kali y...</td>\n",
              "    </tr>\n",
              "    <tr>\n",
              "      <th>159025</th>\n",
              "      <td>Enak &amp; beda dr yg lain. \\nHarganya jg ga terla...</td>\n",
              "    </tr>\n",
              "  </tbody>\n",
              "</table>\n",
              "<p>159026 rows × 1 columns</p>\n",
              "</div>"
            ],
            "text/plain": [
              "                                                   review\n",
              "0       Malabar mountain cafe, liat cafe ini sebenerny...\n",
              "1       Gurame bakar enak, sotongnya enak, udang bakar...\n",
              "2       Uda lama pengen coba kesini, kebetulan pas mau...\n",
              "3       JJ Royal Bistro terletak di lantai LG Senayan ...\n",
              "4       Makanannya enak2 overall, harga reasonable, po...\n",
              "...                                                   ...\n",
              "159021  Utk upnormal yg di Gading serpong ini tempatny...\n",
              "159022  Ke sini pas lagi laper berat jadi nyari nasi b...\n",
              "159023  Cobain mie goreng yg double pake sambel matah,...\n",
              "159024  Sebenernya nyobain cafè bene yg pertama kali y...\n",
              "159025  Enak & beda dr yg lain. \\nHarganya jg ga terla...\n",
              "\n",
              "[159026 rows x 1 columns]"
            ]
          },
          "execution_count": 9,
          "metadata": {},
          "output_type": "execute_result"
        }
      ],
      "source": [
        "unlabelled_df = parse_XML_unlabeled('/content/gdrive/My Drive/sample data/unlabelled_data.xml', [\"review\"])\n",
        "unlabelled_df"
      ]
    },
    {
      "cell_type": "markdown",
      "metadata": {
        "id": "AQmKTvwhSK9T"
      },
      "source": [
        "## Parsing - Agung\n",
        "\n"
      ]
    },
    {
      "cell_type": "code",
      "execution_count": null,
      "metadata": {
        "colab": {
          "base_uri": "https://localhost:8080/",
          "height": 354
        },
        "id": "qoFaxV_YqS2W",
        "outputId": "adaeacb4-4ec0-46b6-fd5e-3214749fffc4"
      },
      "outputs": [
        {
          "name": "stdout",
          "output_type": "stream",
          "text": [
            "Collecting pandas==1.3.4\n",
            "  Downloading pandas-1.3.4-cp37-cp37m-manylinux_2_17_x86_64.manylinux2014_x86_64.whl (11.3 MB)\n",
            "\u001b[K     |████████████████████████████████| 11.3 MB 5.2 MB/s \n",
            "\u001b[?25hRequirement already satisfied: python-dateutil>=2.7.3 in /usr/local/lib/python3.7/dist-packages (from pandas==1.3.4) (2.8.2)\n",
            "Requirement already satisfied: pytz>=2017.3 in /usr/local/lib/python3.7/dist-packages (from pandas==1.3.4) (2018.9)\n",
            "Requirement already satisfied: numpy>=1.17.3 in /usr/local/lib/python3.7/dist-packages (from pandas==1.3.4) (1.19.5)\n",
            "Requirement already satisfied: six>=1.5 in /usr/local/lib/python3.7/dist-packages (from python-dateutil>=2.7.3->pandas==1.3.4) (1.15.0)\n",
            "Installing collected packages: pandas\n",
            "  Attempting uninstall: pandas\n",
            "    Found existing installation: pandas 1.1.5\n",
            "    Uninstalling pandas-1.1.5:\n",
            "      Successfully uninstalled pandas-1.1.5\n",
            "\u001b[31mERROR: pip's dependency resolver does not currently take into account all the packages that are installed. This behaviour is the source of the following dependency conflicts.\n",
            "google-colab 1.0.0 requires pandas~=1.1.0; python_version >= \"3.0\", but you have pandas 1.3.4 which is incompatible.\u001b[0m\n",
            "Successfully installed pandas-1.3.4\n"
          ]
        },
        {
          "data": {
            "application/vnd.colab-display-data+json": {
              "pip_warning": {
                "packages": [
                  "pandas"
                ]
              }
            }
          },
          "metadata": {},
          "output_type": "display_data"
        }
      ],
      "source": [
        "!pip install pandas==1.3.4"
      ]
    },
    {
      "cell_type": "code",
      "execution_count": null,
      "metadata": {
        "id": "eJ-sZRkUhRIV"
      },
      "outputs": [],
      "source": [
        "# Necessary Import\n",
        "import numpy as np\n",
        "import pandas as pd\n",
        "import nltk\n",
        "import io"
      ]
    },
    {
      "cell_type": "code",
      "execution_count": null,
      "metadata": {
        "colab": {
          "base_uri": "https://localhost:8080/",
          "height": 39,
          "resources": {
            "http://localhost:8080/nbextensions/google.colab/files.js": {
              "data": "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",
              "headers": [
                [
                  "content-type",
                  "application/javascript"
                ]
              ],
              "ok": true,
              "status": 200,
              "status_text": ""
            }
          }
        },
        "id": "3trIv3MCSZS3",
        "outputId": "25d7c715-0607-413f-c271-15537678307e"
      },
      "outputs": [
        {
          "data": {
            "text/html": [
              "\n",
              "     <input type=\"file\" id=\"files-1e1884be-6138-4901-bee6-45f05a97d131\" name=\"files[]\" multiple disabled\n",
              "        style=\"border:none\" />\n",
              "     <output id=\"result-1e1884be-6138-4901-bee6-45f05a97d131\">\n",
              "      Upload widget is only available when the cell has been executed in the\n",
              "      current browser session. Please rerun this cell to enable.\n",
              "      </output>\n",
              "      <script src=\"/nbextensions/google.colab/files.js\"></script> "
            ],
            "text/plain": [
              "<IPython.core.display.HTML object>"
            ]
          },
          "metadata": {},
          "output_type": "display_data"
        }
      ],
      "source": [
        "# Optionally upload files\n",
        "from google.colab import files\n",
        "uploaded = files.upload()"
      ]
    },
    {
      "cell_type": "code",
      "execution_count": null,
      "metadata": {
        "id": "JLJAVQF6SUnR"
      },
      "outputs": [],
      "source": [
        "# XSL Stylesheet\n",
        "style_string = '''\n",
        "<xsl:stylesheet version=\"1.0\" xmlns:xsl=\"http://www.w3.org/1999/XSL/Transform\">\n",
        "<xsl:template match = \"corpus\">\n",
        "  <reviews> \n",
        "  <xsl:for-each select=\"review\">\n",
        "    <review>\n",
        "        <rid><xsl:value-of select=\"@rid\"/></rid>\n",
        "        <text><xsl:value-of select=\"text\"/></text>  \n",
        "        <xsl:for-each select=\"aspects[@id=0]\">\n",
        "          <food><xsl:value-of select=\"aspect[@category='FOOD']/@polarity\"/></food>\n",
        "          <ambience><xsl:value-of select=\"aspect[@category='AMBIENCE']/@polarity\"/></ambience>\n",
        "          <service><xsl:value-of select=\"aspect[@category='SERVICE']/@polarity\"/></service>\n",
        "          <price><xsl:value-of select=\"aspect[@category='PRICE']/@polarity\"/></price>     \n",
        "        </xsl:for-each>\n",
        "    </review>\n",
        "  </xsl:for-each>\n",
        "</reviews>\n",
        "</xsl:template > \n",
        "</xsl:stylesheet>\n",
        "'''\n",
        "\n",
        "xsl_style = io.StringIO(style_string)"
      ]
    },
    {
      "cell_type": "code",
      "execution_count": null,
      "metadata": {
        "colab": {
          "base_uri": "https://localhost:8080/"
        },
        "id": "ZYH03FDCO2UP",
        "outputId": "19ad4346-6524-4c04-b735-e41ed45b5dce"
      },
      "outputs": [
        {
          "name": "stdout",
          "output_type": "stream",
          "text": [
            "       rid  ...     price\n",
            "0     1404  ...      None\n",
            "1     3767  ...      None\n",
            "2     2070  ...      None\n",
            "3     1923  ...      None\n",
            "4     1641  ...  NEGATIVE\n",
            "...    ...  ...       ...\n",
            "3860  3841  ...  NEGATIVE\n",
            "3861  1353  ...  POSITIVE\n",
            "3862  2911  ...      None\n",
            "3863  2063  ...  POSITIVE\n",
            "3864  3725  ...      None\n",
            "\n",
            "[3865 rows x 6 columns]\n",
            "         index                                             review\n",
            "0        55569  Malabar mountain cafe, liat cafe ini sebenerny...\n",
            "1       172797  Gurame bakar enak, sotongnya enak, udang bakar...\n",
            "2       147762  Uda lama pengen coba kesini, kebetulan pas mau...\n",
            "3       144971  JJ Royal Bistro terletak di lantai LG Senayan ...\n",
            "4        68768  Makanannya enak2 overall, harga reasonable, po...\n",
            "...        ...                                                ...\n",
            "159021   19710  Utk upnormal yg di Gading serpong ini tempatny...\n",
            "159022   63203  Ke sini pas lagi laper berat jadi nyari nasi b...\n",
            "159023   25930  Cobain mie goreng yg double pake sambel matah,...\n",
            "159024  135291  Sebenernya nyobain cafè bene yg pertama kali y...\n",
            "159025   21180  Enak & beda dr yg lain. \\nHarganya jg ga terla...\n",
            "\n",
            "[159026 rows x 2 columns]\n",
            "       index                                             review\n",
            "0          0  Berkunjung kesini karena baca review yang bila...\n",
            "1          1  Nyam.. Bakut franchise dari Singapore ini ga p...\n",
            "2          2  Saya makan disini kemarin makan bakwan malang....\n",
            "3          3  Pertama liat agak aneh sih karna warnanya item...\n",
            "4          4  A new addition to the Japanese-owned Sentral S...\n",
            "...      ...                                                ...\n",
            "14023  14023  Tempatnya penuh terus setiap saya mampir kesin...\n",
            "14024  14024  Sambil jalan-jalan enaknya sambil makan ice cr...\n",
            "14025  14025  Kalau lagi mau makan rame-rame tapi bingung ma...\n",
            "14026  14026  Dulu sering banget nih kesini,mungkin hampir t...\n",
            "14027  14027  Pertama kali kesinii dlu pernahnya di mountain...\n",
            "\n",
            "[14028 rows x 2 columns]\n"
          ]
        }
      ],
      "source": [
        "labelled_df = pd.read_xml(\"labelled_data_fixed.xml\", stylesheet=xsl_style)\n",
        "unlabelled_df = pd.read_xml(\"unlabelled_data.xml\")\n",
        "testing_df = pd.read_xml(\"testing_data.xml\")\n",
        "\n",
        "print(labelled_df)\n",
        "print(unlabelled_df)\n",
        "print(testing_df)"
      ]
    },
    {
      "cell_type": "markdown",
      "metadata": {
        "id": "LH_6qp4m4Tm7"
      },
      "source": [
        "# TODO: Translate Review\n",
        "Karena bahasa review nya ada inggris sama indonesia, gua rasa bisa di translate ke bahasa indonesia aja. Can use Google Translate python library"
      ]
    },
    {
      "cell_type": "markdown",
      "metadata": {
        "id": "W7uI0aiFZ-an"
      },
      "source": [
        "## Translation - Firdhan"
      ]
    },
    {
      "cell_type": "code",
      "execution_count": null,
      "metadata": {
        "colab": {
          "base_uri": "https://localhost:8080/"
        },
        "id": "T91Pe2in5pb4",
        "outputId": "f04ce14b-4867-47eb-e4b9-afd64c05b96f"
      },
      "outputs": [
        {
          "name": "stdout",
          "output_type": "stream",
          "text": [
            "Collecting langdetect\n",
            "  Downloading langdetect-1.0.9.tar.gz (981 kB)\n",
            "\u001b[?25l\r\u001b[K     |▍                               | 10 kB 28.6 MB/s eta 0:00:01\r\u001b[K     |▊                               | 20 kB 27.5 MB/s eta 0:00:01\r\u001b[K     |█                               | 30 kB 11.9 MB/s eta 0:00:01\r\u001b[K     |█▍                              | 40 kB 9.2 MB/s eta 0:00:01\r\u001b[K     |█▊                              | 51 kB 7.2 MB/s eta 0:00:01\r\u001b[K     |██                              | 61 kB 8.3 MB/s eta 0:00:01\r\u001b[K     |██▍                             | 71 kB 7.8 MB/s eta 0:00:01\r\u001b[K     |██▊                             | 81 kB 8.7 MB/s eta 0:00:01\r\u001b[K     |███                             | 92 kB 7.0 MB/s eta 0:00:01\r\u001b[K     |███▍                            | 102 kB 7.6 MB/s eta 0:00:01\r\u001b[K     |███▊                            | 112 kB 7.6 MB/s eta 0:00:01\r\u001b[K     |████                            | 122 kB 7.6 MB/s eta 0:00:01\r\u001b[K     |████▍                           | 133 kB 7.6 MB/s eta 0:00:01\r\u001b[K     |████▊                           | 143 kB 7.6 MB/s eta 0:00:01\r\u001b[K     |█████                           | 153 kB 7.6 MB/s eta 0:00:01\r\u001b[K     |█████▍                          | 163 kB 7.6 MB/s eta 0:00:01\r\u001b[K     |█████▊                          | 174 kB 7.6 MB/s eta 0:00:01\r\u001b[K     |██████                          | 184 kB 7.6 MB/s eta 0:00:01\r\u001b[K     |██████▍                         | 194 kB 7.6 MB/s eta 0:00:01\r\u001b[K     |██████▊                         | 204 kB 7.6 MB/s eta 0:00:01\r\u001b[K     |███████                         | 215 kB 7.6 MB/s eta 0:00:01\r\u001b[K     |███████▍                        | 225 kB 7.6 MB/s eta 0:00:01\r\u001b[K     |███████▊                        | 235 kB 7.6 MB/s eta 0:00:01\r\u001b[K     |████████                        | 245 kB 7.6 MB/s eta 0:00:01\r\u001b[K     |████████▍                       | 256 kB 7.6 MB/s eta 0:00:01\r\u001b[K     |████████▊                       | 266 kB 7.6 MB/s eta 0:00:01\r\u001b[K     |█████████                       | 276 kB 7.6 MB/s eta 0:00:01\r\u001b[K     |█████████▍                      | 286 kB 7.6 MB/s eta 0:00:01\r\u001b[K     |█████████▊                      | 296 kB 7.6 MB/s eta 0:00:01\r\u001b[K     |██████████                      | 307 kB 7.6 MB/s eta 0:00:01\r\u001b[K     |██████████▍                     | 317 kB 7.6 MB/s eta 0:00:01\r\u001b[K     |██████████▊                     | 327 kB 7.6 MB/s eta 0:00:01\r\u001b[K     |███████████                     | 337 kB 7.6 MB/s eta 0:00:01\r\u001b[K     |███████████▍                    | 348 kB 7.6 MB/s eta 0:00:01\r\u001b[K     |███████████▊                    | 358 kB 7.6 MB/s eta 0:00:01\r\u001b[K     |████████████                    | 368 kB 7.6 MB/s eta 0:00:01\r\u001b[K     |████████████▍                   | 378 kB 7.6 MB/s eta 0:00:01\r\u001b[K     |████████████▊                   | 389 kB 7.6 MB/s eta 0:00:01\r\u001b[K     |█████████████                   | 399 kB 7.6 MB/s eta 0:00:01\r\u001b[K     |█████████████▍                  | 409 kB 7.6 MB/s eta 0:00:01\r\u001b[K     |█████████████▊                  | 419 kB 7.6 MB/s eta 0:00:01\r\u001b[K     |██████████████                  | 430 kB 7.6 MB/s eta 0:00:01\r\u001b[K     |██████████████▍                 | 440 kB 7.6 MB/s eta 0:00:01\r\u001b[K     |██████████████▊                 | 450 kB 7.6 MB/s eta 0:00:01\r\u001b[K     |███████████████                 | 460 kB 7.6 MB/s eta 0:00:01\r\u001b[K     |███████████████▍                | 471 kB 7.6 MB/s eta 0:00:01\r\u001b[K     |███████████████▊                | 481 kB 7.6 MB/s eta 0:00:01\r\u001b[K     |████████████████                | 491 kB 7.6 MB/s eta 0:00:01\r\u001b[K     |████████████████▍               | 501 kB 7.6 MB/s eta 0:00:01\r\u001b[K     |████████████████▊               | 512 kB 7.6 MB/s eta 0:00:01\r\u001b[K     |█████████████████               | 522 kB 7.6 MB/s eta 0:00:01\r\u001b[K     |█████████████████▍              | 532 kB 7.6 MB/s eta 0:00:01\r\u001b[K     |█████████████████▊              | 542 kB 7.6 MB/s eta 0:00:01\r\u001b[K     |██████████████████              | 552 kB 7.6 MB/s eta 0:00:01\r\u001b[K     |██████████████████▍             | 563 kB 7.6 MB/s eta 0:00:01\r\u001b[K     |██████████████████▊             | 573 kB 7.6 MB/s eta 0:00:01\r\u001b[K     |███████████████████             | 583 kB 7.6 MB/s eta 0:00:01\r\u001b[K     |███████████████████▍            | 593 kB 7.6 MB/s eta 0:00:01\r\u001b[K     |███████████████████▊            | 604 kB 7.6 MB/s eta 0:00:01\r\u001b[K     |████████████████████            | 614 kB 7.6 MB/s eta 0:00:01\r\u001b[K     |████████████████████▍           | 624 kB 7.6 MB/s eta 0:00:01\r\u001b[K     |████████████████████▊           | 634 kB 7.6 MB/s eta 0:00:01\r\u001b[K     |█████████████████████           | 645 kB 7.6 MB/s eta 0:00:01\r\u001b[K     |█████████████████████▍          | 655 kB 7.6 MB/s eta 0:00:01\r\u001b[K     |█████████████████████▊          | 665 kB 7.6 MB/s eta 0:00:01\r\u001b[K     |██████████████████████          | 675 kB 7.6 MB/s eta 0:00:01\r\u001b[K     |██████████████████████▍         | 686 kB 7.6 MB/s eta 0:00:01\r\u001b[K     |██████████████████████▊         | 696 kB 7.6 MB/s eta 0:00:01\r\u001b[K     |███████████████████████         | 706 kB 7.6 MB/s eta 0:00:01\r\u001b[K     |███████████████████████▍        | 716 kB 7.6 MB/s eta 0:00:01\r\u001b[K     |███████████████████████▊        | 727 kB 7.6 MB/s eta 0:00:01\r\u001b[K     |████████████████████████        | 737 kB 7.6 MB/s eta 0:00:01\r\u001b[K     |████████████████████████▍       | 747 kB 7.6 MB/s eta 0:00:01\r\u001b[K     |████████████████████████▊       | 757 kB 7.6 MB/s eta 0:00:01\r\u001b[K     |█████████████████████████       | 768 kB 7.6 MB/s eta 0:00:01\r\u001b[K     |█████████████████████████▍      | 778 kB 7.6 MB/s eta 0:00:01\r\u001b[K     |█████████████████████████▊      | 788 kB 7.6 MB/s eta 0:00:01\r\u001b[K     |██████████████████████████      | 798 kB 7.6 MB/s eta 0:00:01\r\u001b[K     |██████████████████████████▍     | 808 kB 7.6 MB/s eta 0:00:01\r\u001b[K     |██████████████████████████▊     | 819 kB 7.6 MB/s eta 0:00:01\r\u001b[K     |███████████████████████████     | 829 kB 7.6 MB/s eta 0:00:01\r\u001b[K     |███████████████████████████▍    | 839 kB 7.6 MB/s eta 0:00:01\r\u001b[K     |███████████████████████████▊    | 849 kB 7.6 MB/s eta 0:00:01\r\u001b[K     |████████████████████████████    | 860 kB 7.6 MB/s eta 0:00:01\r\u001b[K     |████████████████████████████▍   | 870 kB 7.6 MB/s eta 0:00:01\r\u001b[K     |████████████████████████████▊   | 880 kB 7.6 MB/s eta 0:00:01\r\u001b[K     |█████████████████████████████   | 890 kB 7.6 MB/s eta 0:00:01\r\u001b[K     |█████████████████████████████▍  | 901 kB 7.6 MB/s eta 0:00:01\r\u001b[K     |█████████████████████████████▊  | 911 kB 7.6 MB/s eta 0:00:01\r\u001b[K     |██████████████████████████████  | 921 kB 7.6 MB/s eta 0:00:01\r\u001b[K     |██████████████████████████████▍ | 931 kB 7.6 MB/s eta 0:00:01\r\u001b[K     |██████████████████████████████▊ | 942 kB 7.6 MB/s eta 0:00:01\r\u001b[K     |███████████████████████████████ | 952 kB 7.6 MB/s eta 0:00:01\r\u001b[K     |███████████████████████████████▍| 962 kB 7.6 MB/s eta 0:00:01\r\u001b[K     |███████████████████████████████▊| 972 kB 7.6 MB/s eta 0:00:01\r\u001b[K     |████████████████████████████████| 981 kB 7.6 MB/s \n",
            "\u001b[?25hRequirement already satisfied: six in /usr/local/lib/python3.7/dist-packages (from langdetect) (1.15.0)\n",
            "Building wheels for collected packages: langdetect\n",
            "  Building wheel for langdetect (setup.py) ... \u001b[?25l\u001b[?25hdone\n",
            "  Created wheel for langdetect: filename=langdetect-1.0.9-py3-none-any.whl size=993242 sha256=a2ecd7f754d22222129ba2a86dd9a12ddf8e90e3c140a2930cfd897667bb1f81\n",
            "  Stored in directory: /root/.cache/pip/wheels/c5/96/8a/f90c59ed25d75e50a8c10a1b1c2d4c402e4dacfa87f3aff36a\n",
            "Successfully built langdetect\n",
            "Installing collected packages: langdetect\n",
            "Successfully installed langdetect-1.0.9\n"
          ]
        }
      ],
      "source": [
        "pip install langdetect\n"
      ]
    },
    {
      "cell_type": "code",
      "execution_count": null,
      "metadata": {
        "colab": {
          "base_uri": "https://localhost:8080/",
          "height": 35
        },
        "id": "Q8-7rAmwZsAg",
        "outputId": "f47f6fb7-87e3-40c0-b586-617beb429636"
      },
      "outputs": [
        {
          "data": {
            "application/vnd.google.colaboratory.intrinsic+json": {
              "type": "string"
            },
            "text/plain": [
              "'id'"
            ]
          },
          "execution_count": 17,
          "metadata": {},
          "output_type": "execute_result"
        }
      ],
      "source": [
        "from langdetect import detect\n",
        "\n",
        "detect(testing_data_df['review'][0])"
      ]
    },
    {
      "cell_type": "markdown",
      "metadata": {
        "id": "AecZ-G4nTgpU"
      },
      "source": [
        "## Translation - Agung"
      ]
    },
    {
      "cell_type": "code",
      "execution_count": null,
      "metadata": {
        "colab": {
          "base_uri": "https://localhost:8080/",
          "height": 575
        },
        "id": "4LOododYTjdq",
        "outputId": "d1064d3f-6d06-44a0-d177-526dd6365d06"
      },
      "outputs": [
        {
          "name": "stdout",
          "output_type": "stream",
          "text": [
            "Requirement already satisfied: langdetect in /usr/local/lib/python3.7/dist-packages (1.0.9)\n",
            "Requirement already satisfied: six in /usr/local/lib/python3.7/dist-packages (from langdetect) (1.15.0)\n",
            "Collecting googletrans==4.0.0rc1\n",
            "  Downloading googletrans-4.0.0rc1.tar.gz (20 kB)\n",
            "Requirement already satisfied: httpx==0.13.3 in /usr/local/lib/python3.7/dist-packages (from googletrans==4.0.0rc1) (0.13.3)\n",
            "Requirement already satisfied: sniffio in /usr/local/lib/python3.7/dist-packages (from httpx==0.13.3->googletrans==4.0.0rc1) (1.2.0)\n",
            "Requirement already satisfied: rfc3986<2,>=1.3 in /usr/local/lib/python3.7/dist-packages (from httpx==0.13.3->googletrans==4.0.0rc1) (1.5.0)\n",
            "Requirement already satisfied: certifi in /usr/local/lib/python3.7/dist-packages (from httpx==0.13.3->googletrans==4.0.0rc1) (2021.5.30)\n",
            "Requirement already satisfied: chardet==3.* in /usr/local/lib/python3.7/dist-packages (from httpx==0.13.3->googletrans==4.0.0rc1) (3.0.4)\n",
            "Requirement already satisfied: httpcore==0.9.* in /usr/local/lib/python3.7/dist-packages (from httpx==0.13.3->googletrans==4.0.0rc1) (0.9.1)\n",
            "Requirement already satisfied: idna==2.* in /usr/local/lib/python3.7/dist-packages (from httpx==0.13.3->googletrans==4.0.0rc1) (2.10)\n",
            "Requirement already satisfied: hstspreload in /usr/local/lib/python3.7/dist-packages (from httpx==0.13.3->googletrans==4.0.0rc1) (2021.10.1)\n",
            "Requirement already satisfied: h2==3.* in /usr/local/lib/python3.7/dist-packages (from httpcore==0.9.*->httpx==0.13.3->googletrans==4.0.0rc1) (3.2.0)\n",
            "Requirement already satisfied: h11<0.10,>=0.8 in /usr/local/lib/python3.7/dist-packages (from httpcore==0.9.*->httpx==0.13.3->googletrans==4.0.0rc1) (0.9.0)\n",
            "Requirement already satisfied: hyperframe<6,>=5.2.0 in /usr/local/lib/python3.7/dist-packages (from h2==3.*->httpcore==0.9.*->httpx==0.13.3->googletrans==4.0.0rc1) (5.2.0)\n",
            "Requirement already satisfied: hpack<4,>=3.0 in /usr/local/lib/python3.7/dist-packages (from h2==3.*->httpcore==0.9.*->httpx==0.13.3->googletrans==4.0.0rc1) (3.0.0)\n",
            "Building wheels for collected packages: googletrans\n",
            "  Building wheel for googletrans (setup.py) ... \u001b[?25l\u001b[?25hdone\n",
            "  Created wheel for googletrans: filename=googletrans-4.0.0rc1-py3-none-any.whl size=17415 sha256=9563dc9ab695c9279623c8a3618d984d3230d1a1b3a8e04f2893d4ba2a974ec0\n",
            "  Stored in directory: /root/.cache/pip/wheels/43/34/00/4fe71786ea6d12314b29037620c36d857e5d104ac2748bf82a\n",
            "Successfully built googletrans\n",
            "Installing collected packages: googletrans\n",
            "  Attempting uninstall: googletrans\n",
            "    Found existing installation: googletrans 3.1.0a0\n",
            "    Uninstalling googletrans-3.1.0a0:\n",
            "      Successfully uninstalled googletrans-3.1.0a0\n",
            "Successfully installed googletrans-4.0.0rc1\n"
          ]
        },
        {
          "data": {
            "application/vnd.colab-display-data+json": {
              "pip_warning": {
                "packages": [
                  "googletrans"
                ]
              }
            }
          },
          "metadata": {},
          "output_type": "display_data"
        }
      ],
      "source": [
        "# Install requirements\n",
        "!pip install langdetect\n",
        "!pip install googletrans==4.0.0rc1"
      ]
    },
    {
      "cell_type": "code",
      "execution_count": null,
      "metadata": {
        "id": "I8uiL-IXT05-"
      },
      "outputs": [],
      "source": [
        "# Necessary Import\n",
        "from googletrans import Translator\n",
        "from langdetect import detect, LangDetectException"
      ]
    },
    {
      "cell_type": "code",
      "execution_count": null,
      "metadata": {
        "id": "GrEv_dq8T-YR"
      },
      "outputs": [],
      "source": [
        "# Translate english reviews to indonesian for consistency\n",
        "translator = Translator()\n",
        "translated_rows = []\n",
        "\n",
        "for index, row in labelled_df.iterrows():\n",
        "  try:\n",
        "    if detect(row['text']) == 'en':\n",
        "      translated = translator.translate(row[\"text\"], src='en', dest='id')\n",
        "      row['text'] = translated.text\n",
        "      translated_rows.append(row)\n",
        "    else:\n",
        "      translated_rows.append(row)\n",
        "\n",
        "  except LangDetectException:\n",
        "    continue\n",
        "\n",
        "labelled_translated_df = pd.DataFrame(translated_rows)"
      ]
    },
    {
      "cell_type": "code",
      "execution_count": null,
      "metadata": {
        "colab": {
          "base_uri": "https://localhost:8080/",
          "height": 34
        },
        "id": "kMrEM386z0pe",
        "outputId": "9d04b9b2-b7c6-4c9d-e5ed-525bb033d418"
      },
      "outputs": [
        {
          "name": "stdout",
          "output_type": "stream",
          "text": [
            "/content\n"
          ]
        },
        {
          "data": {
            "application/javascript": "\n    async function download(id, filename, size) {\n      if (!google.colab.kernel.accessAllowed) {\n        return;\n      }\n      const div = document.createElement('div');\n      const label = document.createElement('label');\n      label.textContent = `Downloading \"${filename}\": `;\n      div.appendChild(label);\n      const progress = document.createElement('progress');\n      progress.max = size;\n      div.appendChild(progress);\n      document.body.appendChild(div);\n\n      const buffers = [];\n      let downloaded = 0;\n\n      const channel = await google.colab.kernel.comms.open(id);\n      // Send a message to notify the kernel that we're ready.\n      channel.send({})\n\n      for await (const message of channel.messages) {\n        // Send a message to notify the kernel that we're ready.\n        channel.send({})\n        if (message.buffers) {\n          for (const buffer of message.buffers) {\n            buffers.push(buffer);\n            downloaded += buffer.byteLength;\n            progress.value = downloaded;\n          }\n        }\n      }\n      const blob = new Blob(buffers, {type: 'application/binary'});\n      const a = document.createElement('a');\n      a.href = window.URL.createObjectURL(blob);\n      a.download = filename;\n      div.appendChild(a);\n      a.click();\n      div.remove();\n    }\n  ",
            "text/plain": [
              "<IPython.core.display.Javascript object>"
            ]
          },
          "metadata": {},
          "output_type": "display_data"
        },
        {
          "data": {
            "application/javascript": "download(\"download_24459852-ded4-4c7c-b848-62813d99cba8\", \"translated_labelled_data.csv\", 1731293)",
            "text/plain": [
              "<IPython.core.display.Javascript object>"
            ]
          },
          "metadata": {},
          "output_type": "display_data"
        }
      ],
      "source": [
        "# Save translated dataframe as csv, since translating process is long. Can \n",
        "# upload from file for next use\n",
        "labelled_translated_df.to_csv('translated_labelled_data.csv')"
      ]
    },
    {
      "cell_type": "markdown",
      "metadata": {
        "id": "ZLvjX66U43I6"
      },
      "source": [
        "# TODO: Stopword Removal dan Lemmatization\n",
        "Use Sastrawi https://pypi.org/project/Sastrawi/\n"
      ]
    },
    {
      "cell_type": "markdown",
      "metadata": {
        "id": "BYJz2DqAGylc"
      },
      "source": [
        "Sepertinya stopwword removal tidak perlu, karena beberapa stopword penting untuk konteks. (nggak dan tidak termasuk kedalam list stopword sastrawi, tapi penting untuk negasi kata)"
      ]
    },
    {
      "cell_type": "code",
      "execution_count": null,
      "metadata": {
        "colab": {
          "base_uri": "https://localhost:8080/"
        },
        "id": "ByWwvgtNG8Oc",
        "outputId": "74104990-4130-465f-96c2-ad4ea3ca409a"
      },
      "outputs": [
        {
          "name": "stdout",
          "output_type": "stream",
          "text": [
            "Collecting Sastrawi\n",
            "  Downloading Sastrawi-1.0.1-py2.py3-none-any.whl (209 kB)\n",
            "\u001b[?25l\r\u001b[K     |█▋                              | 10 kB 11.5 MB/s eta 0:00:01\r\u001b[K     |███▏                            | 20 kB 11.6 MB/s eta 0:00:01\r\u001b[K     |████▊                           | 30 kB 11.3 MB/s eta 0:00:01\r\u001b[K     |██████▎                         | 40 kB 9.1 MB/s eta 0:00:01\r\u001b[K     |███████▉                        | 51 kB 5.5 MB/s eta 0:00:01\r\u001b[K     |█████████▍                      | 61 kB 5.3 MB/s eta 0:00:01\r\u001b[K     |███████████                     | 71 kB 5.3 MB/s eta 0:00:01\r\u001b[K     |████████████▌                   | 81 kB 5.8 MB/s eta 0:00:01\r\u001b[K     |██████████████                  | 92 kB 6.3 MB/s eta 0:00:01\r\u001b[K     |███████████████▋                | 102 kB 5.2 MB/s eta 0:00:01\r\u001b[K     |█████████████████▏              | 112 kB 5.2 MB/s eta 0:00:01\r\u001b[K     |██████████████████▊             | 122 kB 5.2 MB/s eta 0:00:01\r\u001b[K     |████████████████████▎           | 133 kB 5.2 MB/s eta 0:00:01\r\u001b[K     |█████████████████████▉          | 143 kB 5.2 MB/s eta 0:00:01\r\u001b[K     |███████████████████████▍        | 153 kB 5.2 MB/s eta 0:00:01\r\u001b[K     |█████████████████████████       | 163 kB 5.2 MB/s eta 0:00:01\r\u001b[K     |██████████████████████████▋     | 174 kB 5.2 MB/s eta 0:00:01\r\u001b[K     |████████████████████████████▏   | 184 kB 5.2 MB/s eta 0:00:01\r\u001b[K     |█████████████████████████████▊  | 194 kB 5.2 MB/s eta 0:00:01\r\u001b[K     |███████████████████████████████▎| 204 kB 5.2 MB/s eta 0:00:01\r\u001b[K     |████████████████████████████████| 209 kB 5.2 MB/s \n",
            "\u001b[?25hInstalling collected packages: Sastrawi\n",
            "Successfully installed Sastrawi-1.0.1\n"
          ]
        }
      ],
      "source": [
        "pip install Sastrawi"
      ]
    },
    {
      "cell_type": "code",
      "execution_count": null,
      "metadata": {
        "id": "zlXoTBa2PEFC"
      },
      "outputs": [],
      "source": [
        "from Sastrawi.Stemmer.StemmerFactory import StemmerFactory"
      ]
    },
    {
      "cell_type": "code",
      "execution_count": null,
      "metadata": {
        "id": "zyILQ3KlRxDX"
      },
      "outputs": [],
      "source": [
        "# Optionally upload translated_labelled_data.csv\n",
        "from google.colab import files\n",
        "\n",
        "uploaded = files.upload()\n",
        "\n",
        "labelled_translated_df = pd.read_csv('translated_labelled_data.csv')"
      ]
    },
    {
      "cell_type": "code",
      "execution_count": null,
      "metadata": {
        "id": "dvHZJz-DPIPJ"
      },
      "outputs": [],
      "source": [
        "factory = StemmerFactory()\n",
        "stemmer = factory.create_stemmer()\n",
        "\n",
        "stemmed_rows = []\n",
        "for index, row in labelled_translated_df.iterrows():\n",
        "  stemmed = stemmer.stem(row['text'])\n",
        "  row['text'] = stemmed\n",
        "  stemmed_rows.append(row)\n",
        "\n",
        "stemmed_df = pd.DataFrame(stemmed_rows)"
      ]
    },
    {
      "cell_type": "code",
      "execution_count": null,
      "metadata": {
        "id": "hy3mNz9MSFS8"
      },
      "outputs": [],
      "source": [
        "# Save translated dataframe as csv, since stemming process is long. Can \n",
        "# upload from file for next use\n",
        "stemmed_df.to_csv('stemmed_labelled_data.csv')"
      ]
    },
    {
      "cell_type": "markdown",
      "metadata": {
        "id": "ssULVly64Tup"
      },
      "source": [
        "# TODO: Tokenize"
      ]
    },
    {
      "cell_type": "code",
      "execution_count": null,
      "metadata": {
        "colab": {
          "base_uri": "https://localhost:8080/",
          "height": 162
        },
        "id": "SCpwVouO5qME",
        "outputId": "f4c627e2-dcc4-4612-934b-0a3adb9af604"
      },
      "outputs": [
        {
          "ename": "NameError",
          "evalue": "ignored",
          "output_type": "error",
          "traceback": [
            "\u001b[0;31m---------------------------------------------------------------------------\u001b[0m",
            "\u001b[0;31mNameError\u001b[0m                                 Traceback (most recent call last)",
            "\u001b[0;32m<ipython-input-1-ed2fd71b4a2f>\u001b[0m in \u001b[0;36m<module>\u001b[0;34m()\u001b[0m\n\u001b[0;32m----> 1\u001b[0;31m \u001b[0muploaded\u001b[0m \u001b[0;34m=\u001b[0m \u001b[0mfiles\u001b[0m\u001b[0;34m.\u001b[0m\u001b[0mupload\u001b[0m\u001b[0;34m(\u001b[0m\u001b[0;34m)\u001b[0m\u001b[0;34m\u001b[0m\u001b[0;34m\u001b[0m\u001b[0m\n\u001b[0m",
            "\u001b[0;31mNameError\u001b[0m: name 'files' is not defined"
          ]
        }
      ],
      "source": [
        "# Optionally upload stemmed_labelled_data.csv\n",
        "from google.colab import files\n",
        "\n",
        "uploaded = files.upload()\n",
        "\n",
        "stemmed_df = pd.read_csv('stemmed_labelled_data.csv')"
      ]
    },
    {
      "cell_type": "code",
      "execution_count": null,
      "metadata": {
        "id": "4ExPTdrggrXo"
      },
      "outputs": [],
      "source": [
        "import nltk"
      ]
    },
    {
      "cell_type": "code",
      "execution_count": null,
      "metadata": {
        "id": "ANdW1ZmBgzDH"
      },
      "outputs": [],
      "source": [
        "# Tokenize Stemmed Data\n",
        "tokenized_rows = []\n",
        "\n",
        "for index, row in stemmed_df.iterrows():\n",
        "  tokenized = nltk.word_tokenize(row['text'])\n",
        "  row['text'] = tokenized\n",
        "  tokenized_rows.append(row)\n",
        "\n",
        "tokenized_stemmed_df = pd.DataFrame(tokenized_rows)"
      ]
    },
    {
      "cell_type": "code",
      "execution_count": null,
      "metadata": {
        "id": "ix5UpXFsr-Qk"
      },
      "outputs": [],
      "source": [
        "# Tokenize unstemmed data\n",
        "tokenized_rows = []\n",
        "\n",
        "for index, row in labelled_translated_df.iterrows():\n",
        "  tokenized = nltk.word_tokenize(row['text'])\n",
        "  row['text'] = tokenized\n",
        "  tokenized_rows.append(row)\n",
        "\n",
        "tokenized_df = pd.DataFrame(tokenized_rows)"
      ]
    },
    {
      "cell_type": "markdown",
      "metadata": {
        "id": "mNT7sNdz4Tx1"
      },
      "source": [
        "# TODO: Method 1, ANN\n",
        "\n",
        "Train 2 models. first model is aspect classifier. Second model is sentiment classifier with aspect + text as input. Alternatively, separate output into 4 tasks\n"
      ]
    },
    {
      "cell_type": "code",
      "execution_count": 1,
      "metadata": {
        "colab": {
          "base_uri": "https://localhost:8080/"
        },
        "id": "J27ZZrKivefV",
        "outputId": "58ed28a0-7262-43e2-c205-5a7d0d873b54"
      },
      "outputs": [
        {
          "name": "stdout",
          "output_type": "stream",
          "text": [
            "Defaulting to user installation because normal site-packages is not writeable\n",
            "Requirement already satisfied: transformers in c:\\users\\mrap\\appdata\\roaming\\python\\python39\\site-packages (4.12.2)\n",
            "Requirement already satisfied: regex!=2019.12.17 in c:\\users\\mrap\\appdata\\roaming\\python\\python39\\site-packages (from transformers) (2021.10.23)\n",
            "Requirement already satisfied: tqdm>=4.27 in c:\\users\\mrap\\appdata\\roaming\\python\\python39\\site-packages (from transformers) (4.61.0)\n",
            "Requirement already satisfied: pyyaml>=5.1 in c:\\users\\mrap\\appdata\\roaming\\python\\python39\\site-packages (from transformers) (6.0)\n",
            "Requirement already satisfied: filelock in c:\\users\\mrap\\appdata\\roaming\\python\\python39\\site-packages (from transformers) (3.3.2)\n",
            "Requirement already satisfied: tokenizers<0.11,>=0.10.1 in c:\\users\\mrap\\appdata\\roaming\\python\\python39\\site-packages (from transformers) (0.10.3)\n",
            "Requirement already satisfied: requests in c:\\users\\mrap\\appdata\\roaming\\python\\python39\\site-packages (from transformers) (2.25.1)\n",
            "Requirement already satisfied: sacremoses in c:\\users\\mrap\\appdata\\roaming\\python\\python39\\site-packages (from transformers) (0.0.46)\n",
            "Requirement already satisfied: packaging>=20.0 in c:\\users\\mrap\\appdata\\roaming\\python\\python39\\site-packages (from transformers) (20.9)\n",
            "Requirement already satisfied: numpy>=1.17 in c:\\users\\mrap\\appdata\\roaming\\python\\python39\\site-packages (from transformers) (1.19.5)\n",
            "Requirement already satisfied: huggingface-hub>=0.0.17 in c:\\users\\mrap\\appdata\\roaming\\python\\python39\\site-packages (from transformers) (0.0.19)\n",
            "Requirement already satisfied: typing-extensions in c:\\users\\mrap\\appdata\\roaming\\python\\python39\\site-packages (from huggingface-hub>=0.0.17->transformers) (3.7.4.3)\n",
            "Requirement already satisfied: pyparsing>=2.0.2 in c:\\users\\mrap\\appdata\\roaming\\python\\python39\\site-packages (from packaging>=20.0->transformers) (2.4.7)\n",
            "Requirement already satisfied: idna<3,>=2.5 in c:\\users\\mrap\\appdata\\roaming\\python\\python39\\site-packages (from requests->transformers) (2.10)\n",
            "Requirement already satisfied: certifi>=2017.4.17 in c:\\users\\mrap\\appdata\\roaming\\python\\python39\\site-packages (from requests->transformers) (2020.12.5)\n",
            "Requirement already satisfied: chardet<5,>=3.0.2 in c:\\users\\mrap\\appdata\\roaming\\python\\python39\\site-packages (from requests->transformers) (3.0.4)\n",
            "Requirement already satisfied: urllib3<1.27,>=1.21.1 in c:\\users\\mrap\\appdata\\roaming\\python\\python39\\site-packages (from requests->transformers) (1.26.4)\n",
            "Requirement already satisfied: joblib in c:\\users\\mrap\\appdata\\roaming\\python\\python39\\site-packages (from sacremoses->transformers) (1.0.1)\n",
            "Requirement already satisfied: six in c:\\users\\mrap\\appdata\\roaming\\python\\python39\\site-packages (from sacremoses->transformers) (1.15.0)\n",
            "Requirement already satisfied: click in c:\\users\\mrap\\appdata\\roaming\\python\\python39\\site-packages (from sacremoses->transformers) (8.0.1)\n",
            "Requirement already satisfied: colorama in c:\\users\\mrap\\appdata\\roaming\\python\\python39\\site-packages (from click->sacremoses->transformers) (0.4.4)\n"
          ]
        },
        {
          "name": "stderr",
          "output_type": "stream",
          "text": [
            "WARNING: You are using pip version 21.1.3; however, version 21.3.1 is available.\n",
            "You should consider upgrading via the 'c:\\program files\\python39\\python.exe -m pip install --upgrade pip' command.\n",
            "WARNING: You are using pip version 21.1.3; however, version 21.3.1 is available.\n",
            "You should consider upgrading via the 'c:\\program files\\python39\\python.exe -m pip install --upgrade pip' command.\n",
            "WARNING: You are using pip version 21.1.3; however, version 21.3.1 is available.\n",
            "You should consider upgrading via the 'c:\\program files\\python39\\python.exe -m pip install --upgrade pip' command.\n"
          ]
        }
      ],
      "source": [
        "!pip install transformers\n",
        "!pip install -q -U tensorflow-text\n",
        "!pip install -q tf-models-official"
      ]
    },
    {
      "cell_type": "code",
      "execution_count": 1,
      "metadata": {
        "id": "w3jmTuzf5rEv"
      },
      "outputs": [],
      "source": [
        "import tensorflow as tf\n",
        "from transformers import BertTokenizer, TFBertModel, TFBertForSequenceClassification\n",
        "import pandas as pd\n",
        "import numpy as np\n",
        "import os"
      ]
    },
    {
      "cell_type": "code",
      "execution_count": 2,
      "metadata": {
        "colab": {
          "base_uri": "https://localhost:8080/",
          "height": 106,
          "resources": {
            "http://localhost:8080/nbextensions/google.colab/files.js": {
              "data": "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",
              "headers": [
                [
                  "content-type",
                  "application/javascript"
                ]
              ],
              "ok": true,
              "status": 200,
              "status_text": ""
            }
          }
        },
        "id": "UBEM6YZe3nQn",
        "outputId": "b31b609d-bb92-4b3c-9def-93335a779292"
      },
      "outputs": [],
      "source": [
        "# Upload saved dataframes\n",
        "# from google.colab import files\n",
        "\n",
        "# uploaded = files.upload()\n",
        "\n",
        "stemmed_df = pd.read_csv('stemmed_labelled_data.csv')\n",
        "labelled_translated_df = pd.read_csv('translated_labelled_data.csv')"
      ]
    },
    {
      "cell_type": "code",
      "execution_count": 3,
      "metadata": {
        "id": "Xuah4l8mxf8t"
      },
      "outputs": [],
      "source": [
        "PRE_TRAINED_MODEL_NAME = 'cahya/bert-base-indonesian-522M'\n",
        "\n",
        "tokenizer = BertTokenizer.from_pretrained(PRE_TRAINED_MODEL_NAME)"
      ]
    },
    {
      "cell_type": "code",
      "execution_count": 4,
      "metadata": {
        "id": "MnXRpwhTRIb0"
      },
      "outputs": [],
      "source": [
        "MAX_LEN = 200"
      ]
    },
    {
      "cell_type": "code",
      "execution_count": 5,
      "metadata": {
        "id": "8YNiCn84yAd9"
      },
      "outputs": [],
      "source": [
        "# Tokenize text for input\n",
        "tokenized_rows = []\n",
        "tokenized_mask = []\n",
        "for index, row in labelled_translated_df.iterrows():\n",
        "  tokenized = tokenizer.encode_plus(row['text'], padding=\"max_length\", truncation=True, return_tensors=\"tf\", max_length=MAX_LEN, add_special_tokens=True) \n",
        "  tokenized_rows.append(tokenized['input_ids'])\n",
        "  tokenized_mask.append(tokenized['attention_mask'])\n",
        "\n",
        "tokenized_rows = np.array(tokenized_rows)\n",
        "tokenized_mask = np.array(tokenized_mask)"
      ]
    },
    {
      "cell_type": "code",
      "execution_count": 6,
      "metadata": {
        "id": "6tIYBMHL1J89"
      },
      "outputs": [],
      "source": [
        "# Prepare Label for output (one hot encode for each)\n",
        "def encode_label(inp):\n",
        "  if inp == \"NEGATIVE\":\n",
        "    return [1,0,0]\n",
        "  elif inp == \"POSITIVE\":\n",
        "    return [0,0,1]\n",
        "  else:\n",
        "    return [0,1,0]\n",
        "\n",
        "food_rows = []\n",
        "ambi_rows = []\n",
        "serv_rows = []\n",
        "pric_rows = []\n",
        "for index, row in labelled_translated_df.iterrows():\n",
        "  food_rows.append(encode_label(row['food']))\n",
        "  ambi_rows.append(encode_label(row['ambience']))\n",
        "  serv_rows.append(encode_label(row['service']))\n",
        "  pric_rows.append(encode_label(row['price']))"
      ]
    },
    {
      "cell_type": "code",
      "execution_count": 7,
      "metadata": {
        "colab": {
          "base_uri": "https://localhost:8080/"
        },
        "id": "_XELX-9m3cSp",
        "outputId": "c37cda36-0f71-4af5-9940-6e7b8558e771"
      },
      "outputs": [
        {
          "name": "stderr",
          "output_type": "stream",
          "text": [
            "Some layers from the model checkpoint at cahya/bert-base-indonesian-522M were not used when initializing TFBertModel: ['mlm___cls']\n",
            "- This IS expected if you are initializing TFBertModel from the checkpoint of a model trained on another task or with another architecture (e.g. initializing a BertForSequenceClassification model from a BertForPreTraining model).\n",
            "- This IS NOT expected if you are initializing TFBertModel from the checkpoint of a model that you expect to be exactly identical (initializing a BertForSequenceClassification model from a BertForSequenceClassification model).\n",
            "All the layers of TFBertModel were initialized from the model checkpoint at cahya/bert-base-indonesian-522M.\n",
            "If your task is similar to the task the model of the checkpoint was trained on, you can already use TFBertModel for predictions without further training.\n"
          ]
        }
      ],
      "source": [
        "bert_model = TFBertModel.from_pretrained(PRE_TRAINED_MODEL_NAME, use_cache=False)"
      ]
    },
    {
      "cell_type": "code",
      "execution_count": 8,
      "metadata": {
        "id": "uNBdtawf5TBE"
      },
      "outputs": [],
      "source": [
        "input_ids_in = tf.keras.layers.Input(shape=(200,), name='input_token', dtype='int32')\n",
        "\n",
        "\n",
        "X = bert_model(input_ids_in)[0]\n",
        "# X = tf.keras.layers.Dense(128, activation='relu')(X)\n",
        "X = tf.keras.layers.Flatten()(X)\n",
        "X = tf.keras.layers.Dense(128)(X)\n",
        "X = tf.keras.layers.Dropout(0.1)(X)\n",
        "output_food = tf.keras.layers.Dense(3, activation='softmax')(X)\n",
        "output_ambi = tf.keras.layers.Dense(3, activation='softmax')(X)\n",
        "output_serv = tf.keras.layers.Dense(3, activation='softmax')(X)\n",
        "output_pric = tf.keras.layers.Dense(3, activation='softmax')(X)\n",
        "\n",
        "model = tf.keras.Model(inputs=input_ids_in, outputs = [output_food, output_ambi, output_serv, output_pric])"
      ]
    },
    {
      "cell_type": "code",
      "execution_count": 9,
      "metadata": {
        "id": "8KIn90rYXTa5"
      },
      "outputs": [],
      "source": [
        "model.compile(loss='categorical_crossentropy', optimizer=tf.keras.optimizers.Adam(learning_rate=0.00001), metrics=['accuracy'])\n",
        "    "
      ]
    },
    {
      "cell_type": "code",
      "execution_count": 10,
      "metadata": {
        "id": "fENdjVuaWRHF"
      },
      "outputs": [],
      "source": [
        "x_val1 = tf.reshape(tf.convert_to_tensor(tokenized_rows[-500:]), [-1,200])\n",
        "x_val2 =  tf.reshape(tf.convert_to_tensor(tokenized_mask[-500:]), [-1,200])\n",
        "y_food_v = tf.convert_to_tensor(food_rows[-500:])\n",
        "y_ambi_v = tf.convert_to_tensor(ambi_rows[-500:])\n",
        "y_serv_v = tf.convert_to_tensor(serv_rows[-500:])\n",
        "y_pric_v = tf.convert_to_tensor(pric_rows[-500:])\n",
        "x_train1 = tf.reshape(tf.convert_to_tensor(tokenized_rows[:-500]), [-1,200])\n",
        "x_train2 = tf.reshape(tf.convert_to_tensor(tokenized_mask[:-500]), [-1,200])\n",
        "y_food_t = tf.convert_to_tensor(food_rows[:-500])\n",
        "y_ambi_t = tf.convert_to_tensor(ambi_rows[:-500])\n",
        "y_serv_t = tf.convert_to_tensor(serv_rows[:-500])\n",
        "y_pric_t = tf.convert_to_tensor(pric_rows[:-500])"
      ]
    },
    {
      "cell_type": "code",
      "execution_count": 11,
      "metadata": {
        "colab": {
          "base_uri": "https://localhost:8080/"
        },
        "id": "nRoHdqwJCM5F",
        "outputId": "00ecb31c-5b82-4587-eade-5d9dbfd2ba3d"
      },
      "outputs": [
        {
          "name": "stdout",
          "output_type": "stream",
          "text": [
            "Epoch 1/3\n",
            "WARNING:tensorflow:Gradients do not exist for variables ['tf_bert_model/bert/pooler/dense/kernel:0', 'tf_bert_model/bert/pooler/dense/bias:0'] when minimizing the loss.\n",
            "WARNING:tensorflow:Gradients do not exist for variables ['tf_bert_model/bert/pooler/dense/kernel:0', 'tf_bert_model/bert/pooler/dense/bias:0'] when minimizing the loss.\n",
            "3364/3364 [==============================] - 2146s 633ms/step - loss: 8.2615 - dense_1_loss: 1.6884 - dense_2_loss: 2.5496 - dense_3_loss: 1.8993 - dense_4_loss: 2.1242 - dense_1_accuracy: 0.7140 - dense_2_accuracy: 0.5568 - dense_3_accuracy: 0.6754 - dense_4_accuracy: 0.6629 - val_loss: 6.4937 - val_dense_1_loss: 1.1936 - val_dense_2_loss: 2.1407 - val_dense_3_loss: 1.7594 - val_dense_4_loss: 1.4000 - val_dense_1_accuracy: 0.7600 - val_dense_2_accuracy: 0.6400 - val_dense_3_accuracy: 0.6060 - val_dense_4_accuracy: 0.7100\n",
            "Epoch 2/3\n",
            "3364/3364 [==============================] - 2140s 636ms/step - loss: 2.6659 - dense_1_loss: 0.5821 - dense_2_loss: 0.9249 - dense_3_loss: 0.5881 - dense_4_loss: 0.5708 - dense_1_accuracy: 0.8466 - dense_2_accuracy: 0.7880 - dense_3_accuracy: 0.8555 - dense_4_accuracy: 0.8659 - val_loss: 6.8954 - val_dense_1_loss: 1.1144 - val_dense_2_loss: 2.9669 - val_dense_3_loss: 1.3753 - val_dense_4_loss: 1.4387 - val_dense_1_accuracy: 0.7880 - val_dense_2_accuracy: 0.5380 - val_dense_3_accuracy: 0.7600 - val_dense_4_accuracy: 0.7620\n",
            "Epoch 3/3\n",
            "3364/3364 [==============================] - 1904s 566ms/step - loss: 1.2805 - dense_1_loss: 0.2569 - dense_2_loss: 0.4575 - dense_3_loss: 0.2937 - dense_4_loss: 0.2724 - dense_1_accuracy: 0.9185 - dense_2_accuracy: 0.8850 - dense_3_accuracy: 0.9239 - dense_4_accuracy: 0.9215 - val_loss: 5.8781 - val_dense_1_loss: 1.1942 - val_dense_2_loss: 2.1686 - val_dense_3_loss: 1.1683 - val_dense_4_loss: 1.3470 - val_dense_1_accuracy: 0.7020 - val_dense_2_accuracy: 0.6280 - val_dense_3_accuracy: 0.7980 - val_dense_4_accuracy: 0.7720\n"
          ]
        }
      ],
      "source": [
        "NUM_EPOCHS = 3\n",
        "\n",
        "history = model.fit(x_train1, [y_food_t, y_ambi_t, y_serv_t, y_pric_t], epochs=NUM_EPOCHS, validation_data=(x_val1, [y_food_v, y_ambi_v, y_serv_v, y_pric_v]), batch_size=1)"
      ]
    },
    {
      "cell_type": "code",
      "execution_count": 19,
      "metadata": {},
      "outputs": [
        {
          "name": "stdout",
          "output_type": "stream",
          "text": [
            "[<tf.Tensor: shape=(1, 3), dtype=float32, numpy=array([[0.00597906, 0.952412  , 0.04160893]], dtype=float32)>, <tf.Tensor: shape=(1, 3), dtype=float32, numpy=array([[0.07020407, 0.8830153 , 0.0467806 ]], dtype=float32)>, <tf.Tensor: shape=(1, 3), dtype=float32, numpy=array([[0.03246272, 0.9321489 , 0.03538837]], dtype=float32)>, <tf.Tensor: shape=(1, 3), dtype=float32, numpy=array([[0.00692535, 0.8376694 , 0.1554053 ]], dtype=float32)>]\n"
          ]
        }
      ],
      "source": [
        "# test_input = \"makanan di restoran ini enak banget, harus coba cheeseburger nya. Soda yang ditawarin juga banyak banget\"\n",
        "test_input = \"Restoran ini kotor dan tidak terurus. Sepi banget, ga rekomen\"\n",
        "\n",
        "tokenized_test = tokenizer.__call__(test_input, padding=\"max_length\", truncation=True, return_tensors=\"tf\", max_length=MAX_LEN) \n",
        "test_id = tokenized_test['input_ids']\n",
        "test_mask = tokenized_test['attention_mask']\n",
        "\n",
        "x_test1 = tf.reshape(tf.convert_to_tensor(test_id), [-1,200])\n",
        "x_test2 =  tf.reshape(tf.convert_to_tensor(test_mask), [-1,200])\n",
        "\n",
        "result = model(x_test1)\n",
        "print(result)\n",
        "\n",
        "# [<tf.Tensor: shape=(1, 3), dtype=float32, numpy=array([[0.87806886, 0.0897361 , 0.03219494]], dtype=float32)>, <tf.Tensor: shape=(1, 3), dtype=float32, numpy=array([[0.10894261, 0.8562767 , 0.03478076]], dtype=float32)>, <tf.Tensor: shape=(1, 3), dtype=float32, numpy=array([[0.01104022, 0.98246497, 0.00649487]], dtype=float32)>, <tf.Tensor: shape=(1, 3), dtype=float32, numpy=array([[0.01104022, 0.98246497, 0.00649487]], dtype=float32)>]"
      ]
    },
    {
      "cell_type": "code",
      "execution_count": 27,
      "metadata": {},
      "outputs": [
        {
          "name": "stderr",
          "output_type": "stream",
          "text": [
            "WARNING:absl:Found untraced functions such as embeddings_layer_call_fn, embeddings_layer_call_and_return_conditional_losses, encoder_layer_call_fn, encoder_layer_call_and_return_conditional_losses, pooler_layer_call_fn while saving (showing 5 of 1055). These functions will not be directly callable after loading.\n"
          ]
        },
        {
          "name": "stdout",
          "output_type": "stream",
          "text": [
            "INFO:tensorflow:Assets written to: firstmodel\\assets\n"
          ]
        },
        {
          "name": "stderr",
          "output_type": "stream",
          "text": [
            "INFO:tensorflow:Assets written to: firstmodel\\assets\n",
            "C:\\Users\\MRAP\\AppData\\Roaming\\Python\\Python39\\site-packages\\keras\\utils\\generic_utils.py:494: CustomMaskWarning: Custom mask layers require a config and must override get_config. When loading, the custom mask layer must be passed to the custom_objects argument.\n",
            "  warnings.warn('Custom mask layers require a config and must override '\n"
          ]
        }
      ],
      "source": [
        "\n",
        "tf.keras.models.save_model(model, \"firstmodel\")"
      ]
    },
    {
      "cell_type": "code",
      "execution_count": 32,
      "metadata": {},
      "outputs": [
        {
          "ename": "ResourceExhaustedError",
          "evalue": "OOM when allocating tensor with shape[768,768] and type float on /job:localhost/replica:0/task:0/device:GPU:0 by allocator GPU_0_bfc [Op:Fill]",
          "output_type": "error",
          "traceback": [
            "\u001b[1;31m---------------------------------------------------------------------------\u001b[0m",
            "\u001b[1;31mResourceExhaustedError\u001b[0m                    Traceback (most recent call last)",
            "\u001b[1;32m<ipython-input-32-c46b42f723a4>\u001b[0m in \u001b[0;36m<module>\u001b[1;34m\u001b[0m\n\u001b[1;32m----> 1\u001b[1;33m \u001b[0mtf\u001b[0m\u001b[1;33m.\u001b[0m\u001b[0mkeras\u001b[0m\u001b[1;33m.\u001b[0m\u001b[0mmodels\u001b[0m\u001b[1;33m.\u001b[0m\u001b[0mload_model\u001b[0m\u001b[1;33m(\u001b[0m\u001b[1;34m\"firstmodel\"\u001b[0m\u001b[1;33m)\u001b[0m\u001b[1;33m\u001b[0m\u001b[1;33m\u001b[0m\u001b[0m\n\u001b[0m",
            "\u001b[1;32m~\\AppData\\Roaming\\Python\\Python39\\site-packages\\keras\\saving\\save.py\u001b[0m in \u001b[0;36mload_model\u001b[1;34m(filepath, custom_objects, compile, options)\u001b[0m\n\u001b[0;32m    203\u001b[0m         \u001b[0mfilepath\u001b[0m \u001b[1;33m=\u001b[0m \u001b[0mpath_to_string\u001b[0m\u001b[1;33m(\u001b[0m\u001b[0mfilepath\u001b[0m\u001b[1;33m)\u001b[0m\u001b[1;33m\u001b[0m\u001b[1;33m\u001b[0m\u001b[0m\n\u001b[0;32m    204\u001b[0m         \u001b[1;32mif\u001b[0m \u001b[0misinstance\u001b[0m\u001b[1;33m(\u001b[0m\u001b[0mfilepath\u001b[0m\u001b[1;33m,\u001b[0m \u001b[0mstr\u001b[0m\u001b[1;33m)\u001b[0m\u001b[1;33m:\u001b[0m\u001b[1;33m\u001b[0m\u001b[1;33m\u001b[0m\u001b[0m\n\u001b[1;32m--> 205\u001b[1;33m           \u001b[1;32mreturn\u001b[0m \u001b[0msaved_model_load\u001b[0m\u001b[1;33m.\u001b[0m\u001b[0mload\u001b[0m\u001b[1;33m(\u001b[0m\u001b[0mfilepath\u001b[0m\u001b[1;33m,\u001b[0m \u001b[0mcompile\u001b[0m\u001b[1;33m,\u001b[0m \u001b[0moptions\u001b[0m\u001b[1;33m)\u001b[0m\u001b[1;33m\u001b[0m\u001b[1;33m\u001b[0m\u001b[0m\n\u001b[0m\u001b[0;32m    206\u001b[0m \u001b[1;33m\u001b[0m\u001b[0m\n\u001b[0;32m    207\u001b[0m   raise IOError(\n",
            "\u001b[1;32m~\\AppData\\Roaming\\Python\\Python39\\site-packages\\keras\\saving\\saved_model\\load.py\u001b[0m in \u001b[0;36mload\u001b[1;34m(path, compile, options)\u001b[0m\n\u001b[0;32m    138\u001b[0m   \u001b[1;32mfor\u001b[0m \u001b[0mnode_id\u001b[0m\u001b[1;33m,\u001b[0m \u001b[0mloaded_node\u001b[0m \u001b[1;32min\u001b[0m \u001b[0mkeras_loader\u001b[0m\u001b[1;33m.\u001b[0m\u001b[0mloaded_nodes\u001b[0m\u001b[1;33m.\u001b[0m\u001b[0mitems\u001b[0m\u001b[1;33m(\u001b[0m\u001b[1;33m)\u001b[0m\u001b[1;33m:\u001b[0m\u001b[1;33m\u001b[0m\u001b[1;33m\u001b[0m\u001b[0m\n\u001b[0;32m    139\u001b[0m     \u001b[0mnodes_to_load\u001b[0m\u001b[1;33m[\u001b[0m\u001b[0mkeras_loader\u001b[0m\u001b[1;33m.\u001b[0m\u001b[0mget_path\u001b[0m\u001b[1;33m(\u001b[0m\u001b[0mnode_id\u001b[0m\u001b[1;33m)\u001b[0m\u001b[1;33m]\u001b[0m \u001b[1;33m=\u001b[0m \u001b[0mloaded_node\u001b[0m\u001b[1;33m\u001b[0m\u001b[1;33m\u001b[0m\u001b[0m\n\u001b[1;32m--> 140\u001b[1;33m   \u001b[0mloaded\u001b[0m \u001b[1;33m=\u001b[0m \u001b[0mtf\u001b[0m\u001b[1;33m.\u001b[0m\u001b[0m__internal__\u001b[0m\u001b[1;33m.\u001b[0m\u001b[0msaved_model\u001b[0m\u001b[1;33m.\u001b[0m\u001b[0mload_partial\u001b[0m\u001b[1;33m(\u001b[0m\u001b[0mpath\u001b[0m\u001b[1;33m,\u001b[0m \u001b[0mnodes_to_load\u001b[0m\u001b[1;33m,\u001b[0m \u001b[0moptions\u001b[0m\u001b[1;33m=\u001b[0m\u001b[0moptions\u001b[0m\u001b[1;33m)\u001b[0m\u001b[1;33m\u001b[0m\u001b[1;33m\u001b[0m\u001b[0m\n\u001b[0m\u001b[0;32m    141\u001b[0m \u001b[1;33m\u001b[0m\u001b[0m\n\u001b[0;32m    142\u001b[0m   \u001b[1;31m# Finalize the loaded layers and remove the extra tracked dependencies.\u001b[0m\u001b[1;33m\u001b[0m\u001b[1;33m\u001b[0m\u001b[1;33m\u001b[0m\u001b[0m\n",
            "\u001b[1;32m~\\AppData\\Roaming\\Python\\Python39\\site-packages\\tensorflow\\python\\saved_model\\load.py\u001b[0m in \u001b[0;36mload_partial\u001b[1;34m(export_dir, filters, tags, options)\u001b[0m\n\u001b[0;32m    767\u001b[0m     \u001b[0mA\u001b[0m \u001b[0mdictionary\u001b[0m \u001b[0mmapping\u001b[0m \u001b[0mnode\u001b[0m \u001b[0mpaths\u001b[0m \u001b[1;32mfrom\u001b[0m \u001b[0mthe\u001b[0m \u001b[0mfilter\u001b[0m \u001b[0mto\u001b[0m \u001b[0mloaded\u001b[0m \u001b[0mobjects\u001b[0m\u001b[1;33m.\u001b[0m\u001b[1;33m\u001b[0m\u001b[1;33m\u001b[0m\u001b[0m\n\u001b[0;32m    768\u001b[0m   \"\"\"\n\u001b[1;32m--> 769\u001b[1;33m   \u001b[1;32mreturn\u001b[0m \u001b[0mload_internal\u001b[0m\u001b[1;33m(\u001b[0m\u001b[0mexport_dir\u001b[0m\u001b[1;33m,\u001b[0m \u001b[0mtags\u001b[0m\u001b[1;33m,\u001b[0m \u001b[0moptions\u001b[0m\u001b[1;33m,\u001b[0m \u001b[0mfilters\u001b[0m\u001b[1;33m=\u001b[0m\u001b[0mfilters\u001b[0m\u001b[1;33m)\u001b[0m\u001b[1;33m\u001b[0m\u001b[1;33m\u001b[0m\u001b[0m\n\u001b[0m\u001b[0;32m    770\u001b[0m \u001b[1;33m\u001b[0m\u001b[0m\n\u001b[0;32m    771\u001b[0m \u001b[1;33m\u001b[0m\u001b[0m\n",
            "\u001b[1;32m~\\AppData\\Roaming\\Python\\Python39\\site-packages\\tensorflow\\python\\saved_model\\load.py\u001b[0m in \u001b[0;36mload_internal\u001b[1;34m(export_dir, tags, options, loader_cls, filters)\u001b[0m\n\u001b[0;32m    900\u001b[0m     \u001b[1;32mwith\u001b[0m \u001b[0mops\u001b[0m\u001b[1;33m.\u001b[0m\u001b[0minit_scope\u001b[0m\u001b[1;33m(\u001b[0m\u001b[1;33m)\u001b[0m\u001b[1;33m:\u001b[0m\u001b[1;33m\u001b[0m\u001b[1;33m\u001b[0m\u001b[0m\n\u001b[0;32m    901\u001b[0m       \u001b[1;32mtry\u001b[0m\u001b[1;33m:\u001b[0m\u001b[1;33m\u001b[0m\u001b[1;33m\u001b[0m\u001b[0m\n\u001b[1;32m--> 902\u001b[1;33m         loader = loader_cls(object_graph_proto, saved_model_proto, export_dir,\n\u001b[0m\u001b[0;32m    903\u001b[0m                             ckpt_options, options, filters)\n\u001b[0;32m    904\u001b[0m       \u001b[1;32mexcept\u001b[0m \u001b[0merrors\u001b[0m\u001b[1;33m.\u001b[0m\u001b[0mNotFoundError\u001b[0m \u001b[1;32mas\u001b[0m \u001b[0merr\u001b[0m\u001b[1;33m:\u001b[0m\u001b[1;33m\u001b[0m\u001b[1;33m\u001b[0m\u001b[0m\n",
            "\u001b[1;32m~\\AppData\\Roaming\\Python\\Python39\\site-packages\\tensorflow\\python\\saved_model\\load.py\u001b[0m in \u001b[0;36m__init__\u001b[1;34m(self, object_graph_proto, saved_model_proto, export_dir, ckpt_options, save_options, filters)\u001b[0m\n\u001b[0;32m    160\u001b[0m     \u001b[0mself\u001b[0m\u001b[1;33m.\u001b[0m\u001b[0m_filtered_nodes\u001b[0m \u001b[1;33m=\u001b[0m \u001b[0mself\u001b[0m\u001b[1;33m.\u001b[0m\u001b[0m_retrieve_all_filtered_nodes\u001b[0m\u001b[1;33m(\u001b[0m\u001b[1;33m)\u001b[0m\u001b[1;33m\u001b[0m\u001b[1;33m\u001b[0m\u001b[0m\n\u001b[0;32m    161\u001b[0m \u001b[1;33m\u001b[0m\u001b[0m\n\u001b[1;32m--> 162\u001b[1;33m     \u001b[0mself\u001b[0m\u001b[1;33m.\u001b[0m\u001b[0m_load_all\u001b[0m\u001b[1;33m(\u001b[0m\u001b[1;33m)\u001b[0m\u001b[1;33m\u001b[0m\u001b[1;33m\u001b[0m\u001b[0m\n\u001b[0m\u001b[0;32m    163\u001b[0m \u001b[1;33m\u001b[0m\u001b[0m\n\u001b[0;32m    164\u001b[0m     \u001b[1;32mif\u001b[0m \u001b[1;32mnot\u001b[0m \u001b[0msave_options\u001b[0m\u001b[1;33m.\u001b[0m\u001b[0mexperimental_skip_checkpoint\u001b[0m\u001b[1;33m:\u001b[0m\u001b[1;33m\u001b[0m\u001b[1;33m\u001b[0m\u001b[0m\n",
            "\u001b[1;32m~\\AppData\\Roaming\\Python\\Python39\\site-packages\\tensorflow\\python\\saved_model\\load.py\u001b[0m in \u001b[0;36m_load_all\u001b[1;34m(self)\u001b[0m\n\u001b[0;32m    257\u001b[0m   \u001b[1;32mdef\u001b[0m \u001b[0m_load_all\u001b[0m\u001b[1;33m(\u001b[0m\u001b[0mself\u001b[0m\u001b[1;33m)\u001b[0m\u001b[1;33m:\u001b[0m\u001b[1;33m\u001b[0m\u001b[1;33m\u001b[0m\u001b[0m\n\u001b[0;32m    258\u001b[0m     \u001b[1;34m\"\"\"Loads all nodes and functions from the SavedModel and their edges.\"\"\"\u001b[0m\u001b[1;33m\u001b[0m\u001b[1;33m\u001b[0m\u001b[0m\n\u001b[1;32m--> 259\u001b[1;33m     \u001b[0mself\u001b[0m\u001b[1;33m.\u001b[0m\u001b[0m_load_nodes\u001b[0m\u001b[1;33m(\u001b[0m\u001b[1;33m)\u001b[0m\u001b[1;33m\u001b[0m\u001b[1;33m\u001b[0m\u001b[0m\n\u001b[0m\u001b[0;32m    260\u001b[0m     \u001b[0mself\u001b[0m\u001b[1;33m.\u001b[0m\u001b[0m_load_edges\u001b[0m\u001b[1;33m(\u001b[0m\u001b[1;33m)\u001b[0m\u001b[1;33m\u001b[0m\u001b[1;33m\u001b[0m\u001b[0m\n\u001b[0;32m    261\u001b[0m     \u001b[1;31m# TODO(b/124045874): There are limitations with functions whose captures\u001b[0m\u001b[1;33m\u001b[0m\u001b[1;33m\u001b[0m\u001b[1;33m\u001b[0m\u001b[0m\n",
            "\u001b[1;32m~\\AppData\\Roaming\\Python\\Python39\\site-packages\\tensorflow\\python\\saved_model\\load.py\u001b[0m in \u001b[0;36m_load_nodes\u001b[1;34m(self)\u001b[0m\n\u001b[0;32m    446\u001b[0m         optimized_variable = nodes[\n\u001b[0;32m    447\u001b[0m             slot_variable_proto.original_variable_node_id]\n\u001b[1;32m--> 448\u001b[1;33m         slot_variable = optimizer_object.add_slot(\n\u001b[0m\u001b[0;32m    449\u001b[0m             \u001b[0mvar\u001b[0m\u001b[1;33m=\u001b[0m\u001b[0moptimized_variable\u001b[0m\u001b[1;33m,\u001b[0m\u001b[1;33m\u001b[0m\u001b[1;33m\u001b[0m\u001b[0m\n\u001b[0;32m    450\u001b[0m             slot_name=slot_variable_proto.slot_name)\n",
            "\u001b[1;32m~\\AppData\\Roaming\\Python\\Python39\\site-packages\\keras\\optimizer_v2\\optimizer_v2.py\u001b[0m in \u001b[0;36madd_slot\u001b[1;34m(self, var, slot_name, initializer, shape)\u001b[0m\n\u001b[0;32m    899\u001b[0m \u001b[1;33m\u001b[0m\u001b[0m\n\u001b[0;32m    900\u001b[0m         \u001b[1;32mwith\u001b[0m \u001b[0mstrategy\u001b[0m\u001b[1;33m.\u001b[0m\u001b[0mextended\u001b[0m\u001b[1;33m.\u001b[0m\u001b[0mcolocate_vars_with\u001b[0m\u001b[1;33m(\u001b[0m\u001b[0mvar\u001b[0m\u001b[1;33m)\u001b[0m\u001b[1;33m:\u001b[0m\u001b[1;33m\u001b[0m\u001b[1;33m\u001b[0m\u001b[0m\n\u001b[1;32m--> 901\u001b[1;33m           weight = tf.Variable(\n\u001b[0m\u001b[0;32m    902\u001b[0m               \u001b[0mname\u001b[0m\u001b[1;33m=\u001b[0m\u001b[1;34m\"%s/%s\"\u001b[0m \u001b[1;33m%\u001b[0m \u001b[1;33m(\u001b[0m\u001b[0mvar\u001b[0m\u001b[1;33m.\u001b[0m\u001b[0m_shared_name\u001b[0m\u001b[1;33m,\u001b[0m \u001b[0mslot_name\u001b[0m\u001b[1;33m)\u001b[0m\u001b[1;33m,\u001b[0m  \u001b[1;31m# pylint: disable=protected-access\u001b[0m\u001b[1;33m\u001b[0m\u001b[1;33m\u001b[0m\u001b[0m\n\u001b[0;32m    903\u001b[0m               \u001b[0mdtype\u001b[0m\u001b[1;33m=\u001b[0m\u001b[0mvar\u001b[0m\u001b[1;33m.\u001b[0m\u001b[0mdtype\u001b[0m\u001b[1;33m,\u001b[0m\u001b[1;33m\u001b[0m\u001b[1;33m\u001b[0m\u001b[0m\n",
            "\u001b[1;32m~\\AppData\\Roaming\\Python\\Python39\\site-packages\\tensorflow\\python\\ops\\variables.py\u001b[0m in \u001b[0;36m__call__\u001b[1;34m(cls, *args, **kwargs)\u001b[0m\n\u001b[0;32m    266\u001b[0m       \u001b[1;32mreturn\u001b[0m \u001b[0mcls\u001b[0m\u001b[1;33m.\u001b[0m\u001b[0m_variable_v1_call\u001b[0m\u001b[1;33m(\u001b[0m\u001b[1;33m*\u001b[0m\u001b[0margs\u001b[0m\u001b[1;33m,\u001b[0m \u001b[1;33m**\u001b[0m\u001b[0mkwargs\u001b[0m\u001b[1;33m)\u001b[0m\u001b[1;33m\u001b[0m\u001b[1;33m\u001b[0m\u001b[0m\n\u001b[0;32m    267\u001b[0m     \u001b[1;32melif\u001b[0m \u001b[0mcls\u001b[0m \u001b[1;32mis\u001b[0m \u001b[0mVariable\u001b[0m\u001b[1;33m:\u001b[0m\u001b[1;33m\u001b[0m\u001b[1;33m\u001b[0m\u001b[0m\n\u001b[1;32m--> 268\u001b[1;33m       \u001b[1;32mreturn\u001b[0m \u001b[0mcls\u001b[0m\u001b[1;33m.\u001b[0m\u001b[0m_variable_v2_call\u001b[0m\u001b[1;33m(\u001b[0m\u001b[1;33m*\u001b[0m\u001b[0margs\u001b[0m\u001b[1;33m,\u001b[0m \u001b[1;33m**\u001b[0m\u001b[0mkwargs\u001b[0m\u001b[1;33m)\u001b[0m\u001b[1;33m\u001b[0m\u001b[1;33m\u001b[0m\u001b[0m\n\u001b[0m\u001b[0;32m    269\u001b[0m     \u001b[1;32melse\u001b[0m\u001b[1;33m:\u001b[0m\u001b[1;33m\u001b[0m\u001b[1;33m\u001b[0m\u001b[0m\n\u001b[0;32m    270\u001b[0m       \u001b[1;32mreturn\u001b[0m \u001b[0msuper\u001b[0m\u001b[1;33m(\u001b[0m\u001b[0mVariableMetaclass\u001b[0m\u001b[1;33m,\u001b[0m \u001b[0mcls\u001b[0m\u001b[1;33m)\u001b[0m\u001b[1;33m.\u001b[0m\u001b[0m__call__\u001b[0m\u001b[1;33m(\u001b[0m\u001b[1;33m*\u001b[0m\u001b[0margs\u001b[0m\u001b[1;33m,\u001b[0m \u001b[1;33m**\u001b[0m\u001b[0mkwargs\u001b[0m\u001b[1;33m)\u001b[0m\u001b[1;33m\u001b[0m\u001b[1;33m\u001b[0m\u001b[0m\n",
            "\u001b[1;32m~\\AppData\\Roaming\\Python\\Python39\\site-packages\\tensorflow\\python\\ops\\variables.py\u001b[0m in \u001b[0;36m_variable_v2_call\u001b[1;34m(cls, initial_value, trainable, validate_shape, caching_device, name, variable_def, dtype, import_scope, constraint, synchronization, aggregation, shape)\u001b[0m\n\u001b[0;32m    248\u001b[0m     \u001b[1;32mif\u001b[0m \u001b[0maggregation\u001b[0m \u001b[1;32mis\u001b[0m \u001b[1;32mNone\u001b[0m\u001b[1;33m:\u001b[0m\u001b[1;33m\u001b[0m\u001b[1;33m\u001b[0m\u001b[0m\n\u001b[0;32m    249\u001b[0m       \u001b[0maggregation\u001b[0m \u001b[1;33m=\u001b[0m \u001b[0mVariableAggregation\u001b[0m\u001b[1;33m.\u001b[0m\u001b[0mNONE\u001b[0m\u001b[1;33m\u001b[0m\u001b[1;33m\u001b[0m\u001b[0m\n\u001b[1;32m--> 250\u001b[1;33m     return previous_getter(\n\u001b[0m\u001b[0;32m    251\u001b[0m         \u001b[0minitial_value\u001b[0m\u001b[1;33m=\u001b[0m\u001b[0minitial_value\u001b[0m\u001b[1;33m,\u001b[0m\u001b[1;33m\u001b[0m\u001b[1;33m\u001b[0m\u001b[0m\n\u001b[0;32m    252\u001b[0m         \u001b[0mtrainable\u001b[0m\u001b[1;33m=\u001b[0m\u001b[0mtrainable\u001b[0m\u001b[1;33m,\u001b[0m\u001b[1;33m\u001b[0m\u001b[1;33m\u001b[0m\u001b[0m\n",
            "\u001b[1;32m~\\AppData\\Roaming\\Python\\Python39\\site-packages\\tensorflow\\python\\ops\\variables.py\u001b[0m in \u001b[0;36m<lambda>\u001b[1;34m(**kws)\u001b[0m\n\u001b[0;32m    241\u001b[0m                         shape=None):\n\u001b[0;32m    242\u001b[0m     \u001b[1;34m\"\"\"Call on Variable class. Useful to force the signature.\"\"\"\u001b[0m\u001b[1;33m\u001b[0m\u001b[1;33m\u001b[0m\u001b[0m\n\u001b[1;32m--> 243\u001b[1;33m     \u001b[0mprevious_getter\u001b[0m \u001b[1;33m=\u001b[0m \u001b[1;32mlambda\u001b[0m \u001b[1;33m**\u001b[0m\u001b[0mkws\u001b[0m\u001b[1;33m:\u001b[0m \u001b[0mdefault_variable_creator_v2\u001b[0m\u001b[1;33m(\u001b[0m\u001b[1;32mNone\u001b[0m\u001b[1;33m,\u001b[0m \u001b[1;33m**\u001b[0m\u001b[0mkws\u001b[0m\u001b[1;33m)\u001b[0m\u001b[1;33m\u001b[0m\u001b[1;33m\u001b[0m\u001b[0m\n\u001b[0m\u001b[0;32m    244\u001b[0m     \u001b[1;32mfor\u001b[0m \u001b[0m_\u001b[0m\u001b[1;33m,\u001b[0m \u001b[0mgetter\u001b[0m \u001b[1;32min\u001b[0m \u001b[0mops\u001b[0m\u001b[1;33m.\u001b[0m\u001b[0mget_default_graph\u001b[0m\u001b[1;33m(\u001b[0m\u001b[1;33m)\u001b[0m\u001b[1;33m.\u001b[0m\u001b[0m_variable_creator_stack\u001b[0m\u001b[1;33m:\u001b[0m  \u001b[1;31m# pylint: disable=protected-access\u001b[0m\u001b[1;33m\u001b[0m\u001b[1;33m\u001b[0m\u001b[0m\n\u001b[0;32m    245\u001b[0m       \u001b[0mprevious_getter\u001b[0m \u001b[1;33m=\u001b[0m \u001b[0m_make_getter\u001b[0m\u001b[1;33m(\u001b[0m\u001b[0mgetter\u001b[0m\u001b[1;33m,\u001b[0m \u001b[0mprevious_getter\u001b[0m\u001b[1;33m)\u001b[0m\u001b[1;33m\u001b[0m\u001b[1;33m\u001b[0m\u001b[0m\n",
            "\u001b[1;32m~\\AppData\\Roaming\\Python\\Python39\\site-packages\\tensorflow\\python\\ops\\variable_scope.py\u001b[0m in \u001b[0;36mdefault_variable_creator_v2\u001b[1;34m(next_creator, **kwargs)\u001b[0m\n\u001b[0;32m   2660\u001b[0m   \u001b[0mshape\u001b[0m \u001b[1;33m=\u001b[0m \u001b[0mkwargs\u001b[0m\u001b[1;33m.\u001b[0m\u001b[0mget\u001b[0m\u001b[1;33m(\u001b[0m\u001b[1;34m\"shape\"\u001b[0m\u001b[1;33m,\u001b[0m \u001b[1;32mNone\u001b[0m\u001b[1;33m)\u001b[0m\u001b[1;33m\u001b[0m\u001b[1;33m\u001b[0m\u001b[0m\n\u001b[0;32m   2661\u001b[0m \u001b[1;33m\u001b[0m\u001b[0m\n\u001b[1;32m-> 2662\u001b[1;33m   return resource_variable_ops.ResourceVariable(\n\u001b[0m\u001b[0;32m   2663\u001b[0m       \u001b[0minitial_value\u001b[0m\u001b[1;33m=\u001b[0m\u001b[0minitial_value\u001b[0m\u001b[1;33m,\u001b[0m\u001b[1;33m\u001b[0m\u001b[1;33m\u001b[0m\u001b[0m\n\u001b[0;32m   2664\u001b[0m       \u001b[0mtrainable\u001b[0m\u001b[1;33m=\u001b[0m\u001b[0mtrainable\u001b[0m\u001b[1;33m,\u001b[0m\u001b[1;33m\u001b[0m\u001b[1;33m\u001b[0m\u001b[0m\n",
            "\u001b[1;32m~\\AppData\\Roaming\\Python\\Python39\\site-packages\\tensorflow\\python\\ops\\variables.py\u001b[0m in \u001b[0;36m__call__\u001b[1;34m(cls, *args, **kwargs)\u001b[0m\n\u001b[0;32m    268\u001b[0m       \u001b[1;32mreturn\u001b[0m \u001b[0mcls\u001b[0m\u001b[1;33m.\u001b[0m\u001b[0m_variable_v2_call\u001b[0m\u001b[1;33m(\u001b[0m\u001b[1;33m*\u001b[0m\u001b[0margs\u001b[0m\u001b[1;33m,\u001b[0m \u001b[1;33m**\u001b[0m\u001b[0mkwargs\u001b[0m\u001b[1;33m)\u001b[0m\u001b[1;33m\u001b[0m\u001b[1;33m\u001b[0m\u001b[0m\n\u001b[0;32m    269\u001b[0m     \u001b[1;32melse\u001b[0m\u001b[1;33m:\u001b[0m\u001b[1;33m\u001b[0m\u001b[1;33m\u001b[0m\u001b[0m\n\u001b[1;32m--> 270\u001b[1;33m       \u001b[1;32mreturn\u001b[0m \u001b[0msuper\u001b[0m\u001b[1;33m(\u001b[0m\u001b[0mVariableMetaclass\u001b[0m\u001b[1;33m,\u001b[0m \u001b[0mcls\u001b[0m\u001b[1;33m)\u001b[0m\u001b[1;33m.\u001b[0m\u001b[0m__call__\u001b[0m\u001b[1;33m(\u001b[0m\u001b[1;33m*\u001b[0m\u001b[0margs\u001b[0m\u001b[1;33m,\u001b[0m \u001b[1;33m**\u001b[0m\u001b[0mkwargs\u001b[0m\u001b[1;33m)\u001b[0m\u001b[1;33m\u001b[0m\u001b[1;33m\u001b[0m\u001b[0m\n\u001b[0m\u001b[0;32m    271\u001b[0m \u001b[1;33m\u001b[0m\u001b[0m\n\u001b[0;32m    272\u001b[0m \u001b[1;33m\u001b[0m\u001b[0m\n",
            "\u001b[1;32m~\\AppData\\Roaming\\Python\\Python39\\site-packages\\tensorflow\\python\\ops\\resource_variable_ops.py\u001b[0m in \u001b[0;36m__init__\u001b[1;34m(self, initial_value, trainable, collections, validate_shape, caching_device, name, dtype, variable_def, import_scope, constraint, distribute_strategy, synchronization, aggregation, shape)\u001b[0m\n\u001b[0;32m   1600\u001b[0m       \u001b[0mself\u001b[0m\u001b[1;33m.\u001b[0m\u001b[0m_init_from_proto\u001b[0m\u001b[1;33m(\u001b[0m\u001b[0mvariable_def\u001b[0m\u001b[1;33m,\u001b[0m \u001b[0mimport_scope\u001b[0m\u001b[1;33m=\u001b[0m\u001b[0mimport_scope\u001b[0m\u001b[1;33m)\u001b[0m\u001b[1;33m\u001b[0m\u001b[1;33m\u001b[0m\u001b[0m\n\u001b[0;32m   1601\u001b[0m     \u001b[1;32melse\u001b[0m\u001b[1;33m:\u001b[0m\u001b[1;33m\u001b[0m\u001b[1;33m\u001b[0m\u001b[0m\n\u001b[1;32m-> 1602\u001b[1;33m       self._init_from_args(\n\u001b[0m\u001b[0;32m   1603\u001b[0m           \u001b[0minitial_value\u001b[0m\u001b[1;33m=\u001b[0m\u001b[0minitial_value\u001b[0m\u001b[1;33m,\u001b[0m\u001b[1;33m\u001b[0m\u001b[1;33m\u001b[0m\u001b[0m\n\u001b[0;32m   1604\u001b[0m           \u001b[0mtrainable\u001b[0m\u001b[1;33m=\u001b[0m\u001b[0mtrainable\u001b[0m\u001b[1;33m,\u001b[0m\u001b[1;33m\u001b[0m\u001b[1;33m\u001b[0m\u001b[0m\n",
            "\u001b[1;32m~\\AppData\\Roaming\\Python\\Python39\\site-packages\\tensorflow\\python\\ops\\resource_variable_ops.py\u001b[0m in \u001b[0;36m_init_from_args\u001b[1;34m(self, initial_value, trainable, collections, caching_device, name, dtype, constraint, synchronization, aggregation, distribute_strategy, shape)\u001b[0m\n\u001b[0;32m   1738\u001b[0m           \u001b[1;32mwith\u001b[0m \u001b[0mops\u001b[0m\u001b[1;33m.\u001b[0m\u001b[0mname_scope\u001b[0m\u001b[1;33m(\u001b[0m\u001b[1;34m\"Initializer\"\u001b[0m\u001b[1;33m)\u001b[0m\u001b[1;33m,\u001b[0m \u001b[0mdevice_context_manager\u001b[0m\u001b[1;33m(\u001b[0m\u001b[1;32mNone\u001b[0m\u001b[1;33m)\u001b[0m\u001b[1;33m:\u001b[0m\u001b[1;33m\u001b[0m\u001b[1;33m\u001b[0m\u001b[0m\n\u001b[0;32m   1739\u001b[0m             \u001b[1;32mif\u001b[0m \u001b[0minit_from_fn\u001b[0m\u001b[1;33m:\u001b[0m\u001b[1;33m\u001b[0m\u001b[1;33m\u001b[0m\u001b[0m\n\u001b[1;32m-> 1740\u001b[1;33m               \u001b[0minitial_value\u001b[0m \u001b[1;33m=\u001b[0m \u001b[0minitial_value\u001b[0m\u001b[1;33m(\u001b[0m\u001b[1;33m)\u001b[0m\u001b[1;33m\u001b[0m\u001b[1;33m\u001b[0m\u001b[0m\n\u001b[0m\u001b[0;32m   1741\u001b[0m             \u001b[1;32mif\u001b[0m \u001b[0misinstance\u001b[0m\u001b[1;33m(\u001b[0m\u001b[0minitial_value\u001b[0m\u001b[1;33m,\u001b[0m \u001b[0mtrackable\u001b[0m\u001b[1;33m.\u001b[0m\u001b[0mCheckpointInitialValue\u001b[0m\u001b[1;33m)\u001b[0m\u001b[1;33m:\u001b[0m\u001b[1;33m\u001b[0m\u001b[1;33m\u001b[0m\u001b[0m\n\u001b[0;32m   1742\u001b[0m               \u001b[0mself\u001b[0m\u001b[1;33m.\u001b[0m\u001b[0m_maybe_initialize_trackable\u001b[0m\u001b[1;33m(\u001b[0m\u001b[1;33m)\u001b[0m\u001b[1;33m\u001b[0m\u001b[1;33m\u001b[0m\u001b[0m\n",
            "\u001b[1;32m~\\AppData\\Roaming\\Python\\Python39\\site-packages\\keras\\initializers\\initializers_v2.py\u001b[0m in \u001b[0;36m__call__\u001b[1;34m(self, shape, dtype, **kwargs)\u001b[0m\n\u001b[0;32m    143\u001b[0m     \u001b[1;32mif\u001b[0m \u001b[0m_PARTITION_SHAPE\u001b[0m \u001b[1;32min\u001b[0m \u001b[0mkwargs\u001b[0m\u001b[1;33m:\u001b[0m\u001b[1;33m\u001b[0m\u001b[1;33m\u001b[0m\u001b[0m\n\u001b[0;32m    144\u001b[0m       \u001b[0mshape\u001b[0m \u001b[1;33m=\u001b[0m \u001b[0mkwargs\u001b[0m\u001b[1;33m[\u001b[0m\u001b[0m_PARTITION_SHAPE\u001b[0m\u001b[1;33m]\u001b[0m\u001b[1;33m\u001b[0m\u001b[1;33m\u001b[0m\u001b[0m\n\u001b[1;32m--> 145\u001b[1;33m     \u001b[1;32mreturn\u001b[0m \u001b[0mtf\u001b[0m\u001b[1;33m.\u001b[0m\u001b[0mzeros\u001b[0m\u001b[1;33m(\u001b[0m\u001b[0mshape\u001b[0m\u001b[1;33m,\u001b[0m \u001b[0mdtype\u001b[0m\u001b[1;33m)\u001b[0m\u001b[1;33m\u001b[0m\u001b[1;33m\u001b[0m\u001b[0m\n\u001b[0m\u001b[0;32m    146\u001b[0m \u001b[1;33m\u001b[0m\u001b[0m\n\u001b[0;32m    147\u001b[0m \u001b[1;33m\u001b[0m\u001b[0m\n",
            "\u001b[1;32m~\\AppData\\Roaming\\Python\\Python39\\site-packages\\tensorflow\\python\\util\\dispatch.py\u001b[0m in \u001b[0;36mwrapper\u001b[1;34m(*args, **kwargs)\u001b[0m\n\u001b[0;32m    204\u001b[0m     \u001b[1;34m\"\"\"Call target, and fall back on dispatchers if there is a TypeError.\"\"\"\u001b[0m\u001b[1;33m\u001b[0m\u001b[1;33m\u001b[0m\u001b[0m\n\u001b[0;32m    205\u001b[0m     \u001b[1;32mtry\u001b[0m\u001b[1;33m:\u001b[0m\u001b[1;33m\u001b[0m\u001b[1;33m\u001b[0m\u001b[0m\n\u001b[1;32m--> 206\u001b[1;33m       \u001b[1;32mreturn\u001b[0m \u001b[0mtarget\u001b[0m\u001b[1;33m(\u001b[0m\u001b[1;33m*\u001b[0m\u001b[0margs\u001b[0m\u001b[1;33m,\u001b[0m \u001b[1;33m**\u001b[0m\u001b[0mkwargs\u001b[0m\u001b[1;33m)\u001b[0m\u001b[1;33m\u001b[0m\u001b[1;33m\u001b[0m\u001b[0m\n\u001b[0m\u001b[0;32m    207\u001b[0m     \u001b[1;32mexcept\u001b[0m \u001b[1;33m(\u001b[0m\u001b[0mTypeError\u001b[0m\u001b[1;33m,\u001b[0m \u001b[0mValueError\u001b[0m\u001b[1;33m)\u001b[0m\u001b[1;33m:\u001b[0m\u001b[1;33m\u001b[0m\u001b[1;33m\u001b[0m\u001b[0m\n\u001b[0;32m    208\u001b[0m       \u001b[1;31m# Note: convert_to_eager_tensor currently raises a ValueError, not a\u001b[0m\u001b[1;33m\u001b[0m\u001b[1;33m\u001b[0m\u001b[1;33m\u001b[0m\u001b[0m\n",
            "\u001b[1;32m~\\AppData\\Roaming\\Python\\Python39\\site-packages\\tensorflow\\python\\ops\\array_ops.py\u001b[0m in \u001b[0;36mwrapped\u001b[1;34m(*args, **kwargs)\u001b[0m\n\u001b[0;32m   2913\u001b[0m \u001b[1;33m\u001b[0m\u001b[0m\n\u001b[0;32m   2914\u001b[0m   \u001b[1;32mdef\u001b[0m \u001b[0mwrapped\u001b[0m\u001b[1;33m(\u001b[0m\u001b[1;33m*\u001b[0m\u001b[0margs\u001b[0m\u001b[1;33m,\u001b[0m \u001b[1;33m**\u001b[0m\u001b[0mkwargs\u001b[0m\u001b[1;33m)\u001b[0m\u001b[1;33m:\u001b[0m\u001b[1;33m\u001b[0m\u001b[1;33m\u001b[0m\u001b[0m\n\u001b[1;32m-> 2915\u001b[1;33m     \u001b[0mtensor\u001b[0m \u001b[1;33m=\u001b[0m \u001b[0mfun\u001b[0m\u001b[1;33m(\u001b[0m\u001b[1;33m*\u001b[0m\u001b[0margs\u001b[0m\u001b[1;33m,\u001b[0m \u001b[1;33m**\u001b[0m\u001b[0mkwargs\u001b[0m\u001b[1;33m)\u001b[0m\u001b[1;33m\u001b[0m\u001b[1;33m\u001b[0m\u001b[0m\n\u001b[0m\u001b[0;32m   2916\u001b[0m     \u001b[0mtensor\u001b[0m\u001b[1;33m.\u001b[0m\u001b[0m_is_zeros_tensor\u001b[0m \u001b[1;33m=\u001b[0m \u001b[1;32mTrue\u001b[0m\u001b[1;33m\u001b[0m\u001b[1;33m\u001b[0m\u001b[0m\n\u001b[0;32m   2917\u001b[0m     \u001b[1;32mreturn\u001b[0m \u001b[0mtensor\u001b[0m\u001b[1;33m\u001b[0m\u001b[1;33m\u001b[0m\u001b[0m\n",
            "\u001b[1;32m~\\AppData\\Roaming\\Python\\Python39\\site-packages\\tensorflow\\python\\ops\\array_ops.py\u001b[0m in \u001b[0;36mzeros\u001b[1;34m(shape, dtype, name)\u001b[0m\n\u001b[0;32m   2974\u001b[0m     \u001b[1;32mif\u001b[0m \u001b[1;32mnot\u001b[0m \u001b[0mshape\u001b[0m\u001b[1;33m.\u001b[0m\u001b[0m_shape_tuple\u001b[0m\u001b[1;33m(\u001b[0m\u001b[1;33m)\u001b[0m\u001b[1;33m:\u001b[0m\u001b[1;33m\u001b[0m\u001b[1;33m\u001b[0m\u001b[0m\n\u001b[0;32m   2975\u001b[0m       \u001b[0mshape\u001b[0m \u001b[1;33m=\u001b[0m \u001b[0mreshape\u001b[0m\u001b[1;33m(\u001b[0m\u001b[0mshape\u001b[0m\u001b[1;33m,\u001b[0m \u001b[1;33m[\u001b[0m\u001b[1;33m-\u001b[0m\u001b[1;36m1\u001b[0m\u001b[1;33m]\u001b[0m\u001b[1;33m)\u001b[0m  \u001b[1;31m# Ensure it's a vector\u001b[0m\u001b[1;33m\u001b[0m\u001b[1;33m\u001b[0m\u001b[0m\n\u001b[1;32m-> 2976\u001b[1;33m     \u001b[0moutput\u001b[0m \u001b[1;33m=\u001b[0m \u001b[0mfill\u001b[0m\u001b[1;33m(\u001b[0m\u001b[0mshape\u001b[0m\u001b[1;33m,\u001b[0m \u001b[0mconstant\u001b[0m\u001b[1;33m(\u001b[0m\u001b[0mzero\u001b[0m\u001b[1;33m,\u001b[0m \u001b[0mdtype\u001b[0m\u001b[1;33m=\u001b[0m\u001b[0mdtype\u001b[0m\u001b[1;33m)\u001b[0m\u001b[1;33m,\u001b[0m \u001b[0mname\u001b[0m\u001b[1;33m=\u001b[0m\u001b[0mname\u001b[0m\u001b[1;33m)\u001b[0m\u001b[1;33m\u001b[0m\u001b[1;33m\u001b[0m\u001b[0m\n\u001b[0m\u001b[0;32m   2977\u001b[0m   \u001b[1;32massert\u001b[0m \u001b[0moutput\u001b[0m\u001b[1;33m.\u001b[0m\u001b[0mdtype\u001b[0m\u001b[1;33m.\u001b[0m\u001b[0mbase_dtype\u001b[0m \u001b[1;33m==\u001b[0m \u001b[0mdtype\u001b[0m\u001b[1;33m\u001b[0m\u001b[1;33m\u001b[0m\u001b[0m\n\u001b[0;32m   2978\u001b[0m   \u001b[1;32mreturn\u001b[0m \u001b[0moutput\u001b[0m\u001b[1;33m\u001b[0m\u001b[1;33m\u001b[0m\u001b[0m\n",
            "\u001b[1;32m~\\AppData\\Roaming\\Python\\Python39\\site-packages\\tensorflow\\python\\util\\dispatch.py\u001b[0m in \u001b[0;36mwrapper\u001b[1;34m(*args, **kwargs)\u001b[0m\n\u001b[0;32m    204\u001b[0m     \u001b[1;34m\"\"\"Call target, and fall back on dispatchers if there is a TypeError.\"\"\"\u001b[0m\u001b[1;33m\u001b[0m\u001b[1;33m\u001b[0m\u001b[0m\n\u001b[0;32m    205\u001b[0m     \u001b[1;32mtry\u001b[0m\u001b[1;33m:\u001b[0m\u001b[1;33m\u001b[0m\u001b[1;33m\u001b[0m\u001b[0m\n\u001b[1;32m--> 206\u001b[1;33m       \u001b[1;32mreturn\u001b[0m \u001b[0mtarget\u001b[0m\u001b[1;33m(\u001b[0m\u001b[1;33m*\u001b[0m\u001b[0margs\u001b[0m\u001b[1;33m,\u001b[0m \u001b[1;33m**\u001b[0m\u001b[0mkwargs\u001b[0m\u001b[1;33m)\u001b[0m\u001b[1;33m\u001b[0m\u001b[1;33m\u001b[0m\u001b[0m\n\u001b[0m\u001b[0;32m    207\u001b[0m     \u001b[1;32mexcept\u001b[0m \u001b[1;33m(\u001b[0m\u001b[0mTypeError\u001b[0m\u001b[1;33m,\u001b[0m \u001b[0mValueError\u001b[0m\u001b[1;33m)\u001b[0m\u001b[1;33m:\u001b[0m\u001b[1;33m\u001b[0m\u001b[1;33m\u001b[0m\u001b[0m\n\u001b[0;32m    208\u001b[0m       \u001b[1;31m# Note: convert_to_eager_tensor currently raises a ValueError, not a\u001b[0m\u001b[1;33m\u001b[0m\u001b[1;33m\u001b[0m\u001b[1;33m\u001b[0m\u001b[0m\n",
            "\u001b[1;32m~\\AppData\\Roaming\\Python\\Python39\\site-packages\\tensorflow\\python\\ops\\array_ops.py\u001b[0m in \u001b[0;36mfill\u001b[1;34m(dims, value, name)\u001b[0m\n\u001b[0;32m    238\u001b[0m   \u001b[1;33m@\u001b[0m\u001b[0mend_compatibility\u001b[0m\u001b[1;33m\u001b[0m\u001b[1;33m\u001b[0m\u001b[0m\n\u001b[0;32m    239\u001b[0m   \"\"\"\n\u001b[1;32m--> 240\u001b[1;33m   \u001b[0mresult\u001b[0m \u001b[1;33m=\u001b[0m \u001b[0mgen_array_ops\u001b[0m\u001b[1;33m.\u001b[0m\u001b[0mfill\u001b[0m\u001b[1;33m(\u001b[0m\u001b[0mdims\u001b[0m\u001b[1;33m,\u001b[0m \u001b[0mvalue\u001b[0m\u001b[1;33m,\u001b[0m \u001b[0mname\u001b[0m\u001b[1;33m=\u001b[0m\u001b[0mname\u001b[0m\u001b[1;33m)\u001b[0m\u001b[1;33m\u001b[0m\u001b[1;33m\u001b[0m\u001b[0m\n\u001b[0m\u001b[0;32m    241\u001b[0m   \u001b[0mtensor_util\u001b[0m\u001b[1;33m.\u001b[0m\u001b[0mmaybe_set_static_shape\u001b[0m\u001b[1;33m(\u001b[0m\u001b[0mresult\u001b[0m\u001b[1;33m,\u001b[0m \u001b[0mdims\u001b[0m\u001b[1;33m)\u001b[0m\u001b[1;33m\u001b[0m\u001b[1;33m\u001b[0m\u001b[0m\n\u001b[0;32m    242\u001b[0m   \u001b[1;32mreturn\u001b[0m \u001b[0mresult\u001b[0m\u001b[1;33m\u001b[0m\u001b[1;33m\u001b[0m\u001b[0m\n",
            "\u001b[1;32m~\\AppData\\Roaming\\Python\\Python39\\site-packages\\tensorflow\\python\\ops\\gen_array_ops.py\u001b[0m in \u001b[0;36mfill\u001b[1;34m(dims, value, name)\u001b[0m\n\u001b[0;32m   3365\u001b[0m       \u001b[1;32mreturn\u001b[0m \u001b[0m_result\u001b[0m\u001b[1;33m\u001b[0m\u001b[1;33m\u001b[0m\u001b[0m\n\u001b[0;32m   3366\u001b[0m     \u001b[1;32mexcept\u001b[0m \u001b[0m_core\u001b[0m\u001b[1;33m.\u001b[0m\u001b[0m_NotOkStatusException\u001b[0m \u001b[1;32mas\u001b[0m \u001b[0me\u001b[0m\u001b[1;33m:\u001b[0m\u001b[1;33m\u001b[0m\u001b[1;33m\u001b[0m\u001b[0m\n\u001b[1;32m-> 3367\u001b[1;33m       \u001b[0m_ops\u001b[0m\u001b[1;33m.\u001b[0m\u001b[0mraise_from_not_ok_status\u001b[0m\u001b[1;33m(\u001b[0m\u001b[0me\u001b[0m\u001b[1;33m,\u001b[0m \u001b[0mname\u001b[0m\u001b[1;33m)\u001b[0m\u001b[1;33m\u001b[0m\u001b[1;33m\u001b[0m\u001b[0m\n\u001b[0m\u001b[0;32m   3368\u001b[0m     \u001b[1;32mexcept\u001b[0m \u001b[0m_core\u001b[0m\u001b[1;33m.\u001b[0m\u001b[0m_FallbackException\u001b[0m\u001b[1;33m:\u001b[0m\u001b[1;33m\u001b[0m\u001b[1;33m\u001b[0m\u001b[0m\n\u001b[0;32m   3369\u001b[0m       \u001b[1;32mpass\u001b[0m\u001b[1;33m\u001b[0m\u001b[1;33m\u001b[0m\u001b[0m\n",
            "\u001b[1;32m~\\AppData\\Roaming\\Python\\Python39\\site-packages\\tensorflow\\python\\framework\\ops.py\u001b[0m in \u001b[0;36mraise_from_not_ok_status\u001b[1;34m(e, name)\u001b[0m\n\u001b[0;32m   6939\u001b[0m   \u001b[0mmessage\u001b[0m \u001b[1;33m=\u001b[0m \u001b[0me\u001b[0m\u001b[1;33m.\u001b[0m\u001b[0mmessage\u001b[0m \u001b[1;33m+\u001b[0m \u001b[1;33m(\u001b[0m\u001b[1;34m\" name: \"\u001b[0m \u001b[1;33m+\u001b[0m \u001b[0mname\u001b[0m \u001b[1;32mif\u001b[0m \u001b[0mname\u001b[0m \u001b[1;32mis\u001b[0m \u001b[1;32mnot\u001b[0m \u001b[1;32mNone\u001b[0m \u001b[1;32melse\u001b[0m \u001b[1;34m\"\"\u001b[0m\u001b[1;33m)\u001b[0m\u001b[1;33m\u001b[0m\u001b[1;33m\u001b[0m\u001b[0m\n\u001b[0;32m   6940\u001b[0m   \u001b[1;31m# pylint: disable=protected-access\u001b[0m\u001b[1;33m\u001b[0m\u001b[1;33m\u001b[0m\u001b[1;33m\u001b[0m\u001b[0m\n\u001b[1;32m-> 6941\u001b[1;33m   \u001b[0msix\u001b[0m\u001b[1;33m.\u001b[0m\u001b[0mraise_from\u001b[0m\u001b[1;33m(\u001b[0m\u001b[0mcore\u001b[0m\u001b[1;33m.\u001b[0m\u001b[0m_status_to_exception\u001b[0m\u001b[1;33m(\u001b[0m\u001b[0me\u001b[0m\u001b[1;33m.\u001b[0m\u001b[0mcode\u001b[0m\u001b[1;33m,\u001b[0m \u001b[0mmessage\u001b[0m\u001b[1;33m)\u001b[0m\u001b[1;33m,\u001b[0m \u001b[1;32mNone\u001b[0m\u001b[1;33m)\u001b[0m\u001b[1;33m\u001b[0m\u001b[1;33m\u001b[0m\u001b[0m\n\u001b[0m\u001b[0;32m   6942\u001b[0m   \u001b[1;31m# pylint: enable=protected-access\u001b[0m\u001b[1;33m\u001b[0m\u001b[1;33m\u001b[0m\u001b[1;33m\u001b[0m\u001b[0m\n\u001b[0;32m   6943\u001b[0m \u001b[1;33m\u001b[0m\u001b[0m\n",
            "\u001b[1;32m~\\AppData\\Roaming\\Python\\Python39\\site-packages\\six.py\u001b[0m in \u001b[0;36mraise_from\u001b[1;34m(value, from_value)\u001b[0m\n",
            "\u001b[1;31mResourceExhaustedError\u001b[0m: OOM when allocating tensor with shape[768,768] and type float on /job:localhost/replica:0/task:0/device:GPU:0 by allocator GPU_0_bfc [Op:Fill]"
          ]
        }
      ],
      "source": [
        "tf.keras.models.load_model(\"firstmodel\")"
      ]
    },
    {
      "cell_type": "code",
      "execution_count": 14,
      "metadata": {},
      "outputs": [
        {
          "name": "stdout",
          "output_type": "stream",
          "text": [
            "Defaulting to user installation because normal site-packages is not writeable\n",
            "Requirement already satisfied: langdetect in c:\\users\\mrap\\appdata\\roaming\\python\\python39\\site-packages (1.0.9)\n",
            "Requirement already satisfied: six in c:\\users\\mrap\\appdata\\roaming\\python\\python39\\site-packages (from langdetect) (1.15.0)\n"
          ]
        },
        {
          "name": "stderr",
          "output_type": "stream",
          "text": [
            "WARNING: You are using pip version 21.1.3; however, version 21.3.1 is available.\n",
            "You should consider upgrading via the 'c:\\program files\\python39\\python.exe -m pip install --upgrade pip' command.\n"
          ]
        },
        {
          "name": "stdout",
          "output_type": "stream",
          "text": [
            "Defaulting to user installation because normal site-packages is not writeable\n",
            "Requirement already satisfied: googletrans==4.0.0rc1 in c:\\users\\mrap\\appdata\\roaming\\python\\python39\\site-packages (4.0.0rc1)\n",
            "Requirement already satisfied: httpx==0.13.3 in c:\\users\\mrap\\appdata\\roaming\\python\\python39\\site-packages (from googletrans==4.0.0rc1) (0.13.3)\n",
            "Requirement already satisfied: hstspreload in c:\\users\\mrap\\appdata\\roaming\\python\\python39\\site-packages (from httpx==0.13.3->googletrans==4.0.0rc1) (2021.11.1)\n",
            "Requirement already satisfied: certifi in c:\\users\\mrap\\appdata\\roaming\\python\\python39\\site-packages (from httpx==0.13.3->googletrans==4.0.0rc1) (2020.12.5)\n",
            "Requirement already satisfied: httpcore==0.9.* in c:\\users\\mrap\\appdata\\roaming\\python\\python39\\site-packages (from httpx==0.13.3->googletrans==4.0.0rc1) (0.9.1)\n",
            "Requirement already satisfied: sniffio in c:\\users\\mrap\\appdata\\roaming\\python\\python39\\site-packages (from httpx==0.13.3->googletrans==4.0.0rc1) (1.2.0)\n",
            "Requirement already satisfied: rfc3986<2,>=1.3 in c:\\users\\mrap\\appdata\\roaming\\python\\python39\\site-packages (from httpx==0.13.3->googletrans==4.0.0rc1) (1.5.0)\n",
            "Requirement already satisfied: chardet==3.* in c:\\users\\mrap\\appdata\\roaming\\python\\python39\\site-packages (from httpx==0.13.3->googletrans==4.0.0rc1) (3.0.4)\n",
            "Requirement already satisfied: idna==2.* in c:\\users\\mrap\\appdata\\roaming\\python\\python39\\site-packages (from httpx==0.13.3->googletrans==4.0.0rc1) (2.10)\n",
            "Requirement already satisfied: h2==3.* in c:\\users\\mrap\\appdata\\roaming\\python\\python39\\site-packages (from httpcore==0.9.*->httpx==0.13.3->googletrans==4.0.0rc1) (3.2.0)\n",
            "Requirement already satisfied: h11<0.10,>=0.8 in c:\\users\\mrap\\appdata\\roaming\\python\\python39\\site-packages (from httpcore==0.9.*->httpx==0.13.3->googletrans==4.0.0rc1) (0.9.0)\n",
            "Requirement already satisfied: hyperframe<6,>=5.2.0 in c:\\users\\mrap\\appdata\\roaming\\python\\python39\\site-packages (from h2==3.*->httpcore==0.9.*->httpx==0.13.3->googletrans==4.0.0rc1) (5.2.0)\n",
            "Requirement already satisfied: hpack<4,>=3.0 in c:\\users\\mrap\\appdata\\roaming\\python\\python39\\site-packages (from h2==3.*->httpcore==0.9.*->httpx==0.13.3->googletrans==4.0.0rc1) (3.0.0)\n"
          ]
        },
        {
          "name": "stderr",
          "output_type": "stream",
          "text": [
            "WARNING: You are using pip version 21.1.3; however, version 21.3.1 is available.\n",
            "You should consider upgrading via the 'c:\\program files\\python39\\python.exe -m pip install --upgrade pip' command.\n"
          ]
        },
        {
          "name": "stdout",
          "output_type": "stream",
          "text": [
            "Defaulting to user installation because normal site-packages is not writeable"
          ]
        },
        {
          "name": "stderr",
          "output_type": "stream",
          "text": [
            "WARNING: You are using pip version 21.1.3; however, version 21.3.1 is available.\n",
            "You should consider upgrading via the 'c:\\program files\\python39\\python.exe -m pip install --upgrade pip' command.\n"
          ]
        },
        {
          "name": "stdout",
          "output_type": "stream",
          "text": [
            "\n",
            "Requirement already satisfied: pandas==1.3.4 in c:\\users\\mrap\\appdata\\roaming\\python\\python39\\site-packages (1.3.4)\n",
            "Requirement already satisfied: numpy>=1.17.3 in c:\\users\\mrap\\appdata\\roaming\\python\\python39\\site-packages (from pandas==1.3.4) (1.19.5)\n",
            "Requirement already satisfied: python-dateutil>=2.7.3 in c:\\users\\mrap\\appdata\\roaming\\python\\python39\\site-packages (from pandas==1.3.4) (2.8.1)\n",
            "Requirement already satisfied: pytz>=2017.3 in c:\\users\\mrap\\appdata\\roaming\\python\\python39\\site-packages (from pandas==1.3.4) (2021.1)\n",
            "Requirement already satisfied: six>=1.5 in c:\\users\\mrap\\appdata\\roaming\\python\\python39\\site-packages (from python-dateutil>=2.7.3->pandas==1.3.4) (1.15.0)\n",
            "Defaulting to user installation because normal site-packages is not writeable\n",
            "Requirement already satisfied: lxml in c:\\users\\mrap\\appdata\\roaming\\python\\python39\\site-packages (4.6.3)\n"
          ]
        },
        {
          "name": "stderr",
          "output_type": "stream",
          "text": [
            "WARNING: You are using pip version 21.1.3; however, version 21.3.1 is available.\n",
            "You should consider upgrading via the 'c:\\program files\\python39\\python.exe -m pip install --upgrade pip' command.\n"
          ]
        }
      ],
      "source": [
        "!pip install langdetect\n",
        "!pip install googletrans==4.0.0rc1\n",
        "!pip install pandas==1.3.4\n",
        "!pip install lxml"
      ]
    },
    {
      "cell_type": "code",
      "execution_count": 15,
      "metadata": {},
      "outputs": [],
      "source": [
        "# Necessary Import\n",
        "from googletrans import Translator\n",
        "from langdetect import detect, LangDetectException\n",
        "import pandas as pd"
      ]
    },
    {
      "cell_type": "code",
      "execution_count": 16,
      "metadata": {},
      "outputs": [],
      "source": [
        "# Create inferrence function\n",
        "\n",
        "def infer(text) :\n",
        "    translator = Translator()\n",
        "    translated = ''\n",
        "    try:\n",
        "        if detect(text) == 'en':\n",
        "            translated = translator.translate(text, src='en', dest='id')\n",
        "            translated = translated.text.lower()\n",
        "        else:\n",
        "            translated = text.lower()\n",
        "\n",
        "    except LangDetectException:\n",
        "        translated = text.lower()\n",
        "\n",
        "    PRE_TRAINED_MODEL_NAME = 'cahya/bert-base-indonesian-522M'\n",
        "\n",
        "    tokenizer = BertTokenizer.from_pretrained(PRE_TRAINED_MODEL_NAME)\n",
        "\n",
        "    tokenized_test = tokenizer.__call__(text, padding=\"max_length\", truncation=True, return_tensors=\"tf\", max_length=200) \n",
        "    test_id = tokenized_test['input_ids']\n",
        "    test_mask = tokenized_test['attention_mask']\n",
        "\n",
        "    x_test1 = tf.reshape(tf.convert_to_tensor(test_id), [-1,200])\n",
        "    x_test2 =  tf.reshape(tf.convert_to_tensor(test_mask), [-1,200])\n",
        "\n",
        "    result = model(x_test1)\n",
        "\n",
        "    return result"
      ]
    },
    {
      "cell_type": "code",
      "execution_count": 17,
      "metadata": {},
      "outputs": [
        {
          "name": "stdout",
          "output_type": "stream",
          "text": [
            "1.3.4\n"
          ]
        }
      ],
      "source": [
        "# Parse test xml\n",
        "print(pd.__version__)\n",
        "testing_df = pd.read_xml(\"testing_data.xml\")"
      ]
    },
    {
      "cell_type": "code",
      "execution_count": 21,
      "metadata": {},
      "outputs": [],
      "source": [
        "threshold = 0.5\n",
        "\n",
        "test_result = []\n",
        "for index, row in testing_df.iterrows():\n",
        "  text = row['review']\n",
        "  inferred_result = infer(text)\n",
        "\n",
        "  result = [index]\n",
        "\n",
        "  for i in inferred_result:\n",
        "    if i[0][2] == max(i[0]):\n",
        "      result.append(\"POSITIVE\")\n",
        "    elif i[0][0] == max(i[0]):\n",
        "      result.append(\"NEGATIVE\")\n",
        "    else:\n",
        "      result.append(\"-\")\n",
        " \n",
        "  test_result.append(result)"
      ]
    },
    {
      "cell_type": "code",
      "execution_count": 25,
      "metadata": {},
      "outputs": [],
      "source": [
        "import csv\n",
        "\n",
        "\n",
        "with open(\"result.csv\",\"w+\", newline='') as my_csv:\n",
        "    csvWriter = csv.writer(my_csv,delimiter=',')\n",
        "    csvWriter.writerows(test_result)"
      ]
    },
    {
      "cell_type": "markdown",
      "metadata": {
        "id": "5ypXZfw95Bgz"
      },
      "source": [
        "# TODO: Method 2, Naive Bayes"
      ]
    },
    {
      "cell_type": "markdown",
      "metadata": {
        "id": "dI5jfRgA5fGB"
      },
      "source": [
        "# TODO: (OPTIONAL) Semi supervised labelling on unlabelled data\n"
      ]
    },
    {
      "cell_type": "code",
      "execution_count": null,
      "metadata": {
        "id": "mgUjDo7v5rhg"
      },
      "outputs": [],
      "source": []
    }
  ],
  "metadata": {
    "colab": {
      "collapsed_sections": [
        "Y58R0E5sZxX4",
        "W7uI0aiFZ-an"
      ],
      "name": "TK1.ipynb",
      "provenance": []
    },
    "interpreter": {
      "hash": "ac59ebe37160ed0dfa835113d9b8498d9f09ceb179beaac4002f036b9467c963"
    },
    "kernelspec": {
      "display_name": "Python 3.9.5 64-bit",
      "name": "python3"
    },
    "language_info": {
      "codemirror_mode": {
        "name": "ipython",
        "version": 3
      },
      "file_extension": ".py",
      "mimetype": "text/x-python",
      "name": "python",
      "nbconvert_exporter": "python",
      "pygments_lexer": "ipython3",
      "version": "3.9.5"
    }
  },
  "nbformat": 4,
  "nbformat_minor": 0
}
